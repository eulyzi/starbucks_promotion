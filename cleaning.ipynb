{
 "cells": [
  {
   "cell_type": "markdown",
   "id": "9c9e249a-13d3-4465-820f-39579616322b",
   "metadata": {},
   "source": [
    "# Starbucks Capstone Challenge Cleaning"
   ]
  },
  {
   "cell_type": "markdown",
   "id": "db2a2f77-39e0-42b6-999b-5e50471c67f3",
   "metadata": {},
   "source": [
    "## Introduction\n",
    "\n",
    "This data set contains simulated data that mimics customer behavior on the Starbucks rewards mobile app. Once every few days, Starbucks sends out an offer to users of the mobile app. An offer can be merely an advertisement for a drink or an actual offer such as a discount or BOGO (buy one get one free). Some users might not receive any offer during certain weeks. \n",
    "\n",
    "Not all users receive the same offer, and that is the challenge to solve with this data set.\n",
    "\n",
    "Your task is to combine transaction, demographic and offer data to determine which demographic groups respond best to which offer type. This data set is a simplified version of the real Starbucks app because the underlying simulator only has one product whereas Starbucks actually sells dozens of products.\n",
    "\n",
    "Every offer has a validity period before the offer expires. As an example, a BOGO offer might be valid for only 5 days. You'll see in the data set that informational offers have a validity period even though these ads are merely providing information about a product; for example, if an informational offer has 7 days of validity, you can assume the customer is feeling the influence of the offer for 7 days after receiving the advertisement.\n",
    "\n",
    "You'll be given transactional data showing user purchases made on the app including the timestamp of purchase and the amount of money spent on a purchase. This transactional data also has a record for each offer that a user receives as well as a record for when a user actually views the offer. There are also records for when a user completes an offer. \n",
    "\n",
    "Keep in mind as well that someone using the app might make a purchase through the app without having received an offer or seen an offer.\n",
    "\n",
    "## Example\n",
    "\n",
    "To give an example, a user could receive a discount offer buy 10 dollars get 2 off on Monday. The offer is valid for 10 days from receipt. If the customer accumulates at least 10 dollars in purchases during the validity period, the customer completes the offer.\n",
    "\n",
    "However, there are a few things to watch out for in this data set. Customers do not opt into the offers that they receive; in other words, a user can receive an offer, never actually view the offer, and still complete the offer. For example, a user might receive the \"buy 10 dollars get 2 dollars off offer\", but the user never opens the offer during the 10 day validity period. The customer spends 15 dollars during those ten days. There will be an offer completion record in the data set; however, the customer was not influenced by the offer because the customer never viewed the offer.\n",
    "\n",
    "## Cleaning\n",
    "\n",
    "This makes data cleaning especially important and tricky.\n",
    "\n",
    "You'll also want to take into account that some demographic groups will make purchases even if they don't receive an offer. From a business perspective, if a customer is going to make a 10 dollar purchase without an offer anyway, you wouldn't want to send a buy 10 dollars get 2 dollars off offer. You'll want to try to assess what a certain demographic group will buy when not receiving any offers.\n",
    "\n",
    "## Final Advice\n",
    "\n",
    "Because this is a capstone project, you are free to analyze the data any way you see fit. For example, you could build a machine learning model that predicts how much someone will spend based on demographics and offer type. Or you could build a model that predicts whether or not someone will respond to an offer. Or, you don't need to build a machine learning model at all. You could develop a set of heuristics that determine what offer you should send to each customer (i.e., 75 percent of women customers who were 35 years old responded to offer A vs 40 percent from the same demographic to offer B, so send offer A)."
   ]
  },
  {
   "cell_type": "markdown",
   "id": "1cb34f4a-61cf-4fc9-ab07-88c873abb675",
   "metadata": {},
   "source": [
    "# Data Sets\n",
    "\n",
    "The data is contained in three files:\n",
    "\n",
    "* portfolio.json - containing offer ids and meta data about each offer (duration, type, etc.)\n",
    "* profile.json - demographic data for each customer\n",
    "* transcript.json - records for transactions, offers received, offers viewed, and offers completed\n",
    "\n",
    "Here is the schema and explanation of each variable in the files:\n",
    "\n",
    "**portfolio.json**\n",
    "* id (string) - offer id\n",
    "* offer_type (string) - type of offer ie f\n",
    "* difficulty (int) - minimum required spend to complete an offer\n",
    "* reward (int) - reward given for completing an offer\n",
    "* duration (int) - time for offer to be open, in days\n",
    "* channels (list of strings)\n",
    "\n",
    "**profile.json**\n",
    "* age (int) - age of the customer \n",
    "* became_member_on (int) - date when customer created an app account\n",
    "* gender (str) - gender of the customer (note some entries contain 'O' for other rather than M or F)\n",
    "* id (str) - customer id\n",
    "* income (float) - customer's income\n",
    "\n",
    "**transcript.json**\n",
    "* event (str) - record description (ie transaction, offer received, offer viewed, etc.)\n",
    "* person (str) - customer id\n",
    "* time (int) - time in hours since start of test. The data begins at time t=0\n",
    "* value - (dict of strings) - either an offer id or transaction amount depending on the record"
   ]
  },
  {
   "cell_type": "code",
   "execution_count": 1,
   "id": "8b98b146-9be0-4923-851c-cd46b42aa22a",
   "metadata": {},
   "outputs": [
    {
     "name": "stdout",
     "output_type": "stream",
     "text": [
      "time: 0 ns (started: 2021-10-25 19:58:04 +08:00)\n"
     ]
    }
   ],
   "source": [
    "%pip install ipython-autotime\n",
    "%load_ext autotime"
   ]
  },
  {
   "cell_type": "code",
   "execution_count": 2,
   "id": "4253ae9c-bdeb-44f9-ae2a-49074e6c122b",
   "metadata": {
    "tags": []
   },
   "outputs": [
    {
     "name": "stdout",
     "output_type": "stream",
     "text": [
      "time: 2.11 s (started: 2021-10-25 19:58:04 +08:00)\n"
     ]
    }
   ],
   "source": [
    "import pandas as pd\n",
    "import numpy as np\n",
    "import math\n",
    "import json\n",
    "from functools import reduce\n",
    "from datetime import date\n",
    "from dateutil.parser import parse\n",
    "import re\n",
    "\n",
    "# read in the json files\n",
    "portfolio = pd.read_json('data/portfolio.json', orient='records', lines=True)\n",
    "profile = pd.read_json('data/profile.json', orient='records', lines=True)\n",
    "transcript = pd.read_json('data/transcript.json.zip', orient='records', lines=True)"
   ]
  },
  {
   "cell_type": "code",
   "execution_count": 3,
   "id": "02f39002-9b13-41dd-9daa-e2d7a6b3658e",
   "metadata": {},
   "outputs": [
    {
     "name": "stdout",
     "output_type": "stream",
     "text": [
      "time: 0 ns (started: 2021-10-25 19:58:06 +08:00)\n"
     ]
    }
   ],
   "source": [
    "def show_desc(df:pd.DataFrame)->pd.DataFrame:\n",
    "    \"\"\"show some aggregate of a pd.DataFrame\"\"\"\n",
    "    desc = pd.DataFrame([df.isnull().sum(),df.isnull().mean(),df.dtypes,df.count(),df.nunique(),df.min(),df.max(),df.median()],\n",
    "             index=['null_count','null_ratio','dtypes','value_count','uique_counts','value_min','value_max','value_median'])\\\n",
    "    .sort_values(by=['null_ratio','uique_counts'],axis=1,ascending=[False,True])\n",
    "    return desc"
   ]
  },
  {
   "cell_type": "markdown",
   "id": "192a1481-2cc3-4fc9-87eb-29866fe529c7",
   "metadata": {},
   "source": [
    "# Clean portfolio"
   ]
  },
  {
   "cell_type": "code",
   "execution_count": 4,
   "id": "ca768a25-4eb0-4e5a-86b4-488f95524a8d",
   "metadata": {},
   "outputs": [
    {
     "data": {
      "text/html": [
       "<div>\n",
       "<style scoped>\n",
       "    .dataframe tbody tr th:only-of-type {\n",
       "        vertical-align: middle;\n",
       "    }\n",
       "\n",
       "    .dataframe tbody tr th {\n",
       "        vertical-align: top;\n",
       "    }\n",
       "\n",
       "    .dataframe thead th {\n",
       "        text-align: right;\n",
       "    }\n",
       "</style>\n",
       "<table border=\"1\" class=\"dataframe\">\n",
       "  <thead>\n",
       "    <tr style=\"text-align: right;\">\n",
       "      <th></th>\n",
       "      <th>reward</th>\n",
       "      <th>channels</th>\n",
       "      <th>difficulty</th>\n",
       "      <th>duration</th>\n",
       "      <th>offer_type</th>\n",
       "      <th>id</th>\n",
       "    </tr>\n",
       "  </thead>\n",
       "  <tbody>\n",
       "    <tr>\n",
       "      <th>0</th>\n",
       "      <td>10</td>\n",
       "      <td>[email, mobile, social]</td>\n",
       "      <td>10</td>\n",
       "      <td>7</td>\n",
       "      <td>bogo</td>\n",
       "      <td>ae264e3637204a6fb9bb56bc8210ddfd</td>\n",
       "    </tr>\n",
       "    <tr>\n",
       "      <th>1</th>\n",
       "      <td>10</td>\n",
       "      <td>[web, email, mobile, social]</td>\n",
       "      <td>10</td>\n",
       "      <td>5</td>\n",
       "      <td>bogo</td>\n",
       "      <td>4d5c57ea9a6940dd891ad53e9dbe8da0</td>\n",
       "    </tr>\n",
       "    <tr>\n",
       "      <th>2</th>\n",
       "      <td>0</td>\n",
       "      <td>[web, email, mobile]</td>\n",
       "      <td>0</td>\n",
       "      <td>4</td>\n",
       "      <td>informational</td>\n",
       "      <td>3f207df678b143eea3cee63160fa8bed</td>\n",
       "    </tr>\n",
       "    <tr>\n",
       "      <th>3</th>\n",
       "      <td>5</td>\n",
       "      <td>[web, email, mobile]</td>\n",
       "      <td>5</td>\n",
       "      <td>7</td>\n",
       "      <td>bogo</td>\n",
       "      <td>9b98b8c7a33c4b65b9aebfe6a799e6d9</td>\n",
       "    </tr>\n",
       "    <tr>\n",
       "      <th>4</th>\n",
       "      <td>5</td>\n",
       "      <td>[web, email]</td>\n",
       "      <td>20</td>\n",
       "      <td>10</td>\n",
       "      <td>discount</td>\n",
       "      <td>0b1e1539f2cc45b7b9fa7c272da2e1d7</td>\n",
       "    </tr>\n",
       "  </tbody>\n",
       "</table>\n",
       "</div>"
      ],
      "text/plain": [
       "   reward                      channels  difficulty  duration     offer_type  \\\n",
       "0      10       [email, mobile, social]          10         7           bogo   \n",
       "1      10  [web, email, mobile, social]          10         5           bogo   \n",
       "2       0          [web, email, mobile]           0         4  informational   \n",
       "3       5          [web, email, mobile]           5         7           bogo   \n",
       "4       5                  [web, email]          20        10       discount   \n",
       "\n",
       "                                 id  \n",
       "0  ae264e3637204a6fb9bb56bc8210ddfd  \n",
       "1  4d5c57ea9a6940dd891ad53e9dbe8da0  \n",
       "2  3f207df678b143eea3cee63160fa8bed  \n",
       "3  9b98b8c7a33c4b65b9aebfe6a799e6d9  \n",
       "4  0b1e1539f2cc45b7b9fa7c272da2e1d7  "
      ]
     },
     "execution_count": 4,
     "metadata": {},
     "output_type": "execute_result"
    },
    {
     "name": "stdout",
     "output_type": "stream",
     "text": [
      "time: 31 ms (started: 2021-10-25 19:58:06 +08:00)\n"
     ]
    }
   ],
   "source": [
    "portfolio.head()"
   ]
  },
  {
   "cell_type": "markdown",
   "id": "9358aaaa-fae6-4b0d-a60f-b2400d38da13",
   "metadata": {},
   "source": [
    "extract all the channels"
   ]
  },
  {
   "cell_type": "code",
   "execution_count": 5,
   "id": "05b8c037-a319-4f9e-bbb1-259616361e51",
   "metadata": {},
   "outputs": [
    {
     "data": {
      "text/plain": [
       "[['email', 'mobile', 'social'],\n",
       " ['web', 'email', 'mobile', 'social'],\n",
       " ['web', 'email', 'mobile'],\n",
       " ['web', 'email', 'mobile'],\n",
       " ['web', 'email'],\n",
       " ['web', 'email', 'mobile', 'social'],\n",
       " ['web', 'email', 'mobile', 'social'],\n",
       " ['email', 'mobile', 'social'],\n",
       " ['web', 'email', 'mobile', 'social'],\n",
       " ['web', 'email', 'mobile']]"
      ]
     },
     "execution_count": 5,
     "metadata": {},
     "output_type": "execute_result"
    },
    {
     "name": "stdout",
     "output_type": "stream",
     "text": [
      "time: 0 ns (started: 2021-10-25 19:58:06 +08:00)\n"
     ]
    }
   ],
   "source": [
    "channels_words = portfolio['channels'].to_list()\n",
    "channels_words"
   ]
  },
  {
   "cell_type": "code",
   "execution_count": 6,
   "id": "aa9d3885-5676-4850-aa2a-929ec7166d2a",
   "metadata": {},
   "outputs": [
    {
     "data": {
      "text/plain": [
       "{'email', 'mobile', 'social', 'web'}"
      ]
     },
     "execution_count": 6,
     "metadata": {},
     "output_type": "execute_result"
    },
    {
     "name": "stdout",
     "output_type": "stream",
     "text": [
      "time: 0 ns (started: 2021-10-25 19:58:06 +08:00)\n"
     ]
    }
   ],
   "source": [
    "from functools import reduce\n",
    "\n",
    "all_words = reduce(lambda x,y:set(x).union(set(y)), channels_words)\n",
    "all_words"
   ]
  },
  {
   "cell_type": "code",
   "execution_count": 7,
   "id": "fbe98b5c-a44a-4d3d-89d0-97a9b028b530",
   "metadata": {},
   "outputs": [
    {
     "name": "stdout",
     "output_type": "stream",
     "text": [
      "time: 0 ns (started: 2021-10-25 19:58:06 +08:00)\n"
     ]
    }
   ],
   "source": [
    "def parse_channel(x:list,attr_matrix:list=['email', 'mobile', 'social', 'web'])->list:\n",
    "    \"\"\"check whether list x has attributes of attr_matrix, mark 1 if has else 0.\n",
    "\n",
    "    To use:\n",
    "     >>> s = parse_channel(['email', 'mobile', 'social'])\n",
    "     >>> s\n",
    "     [1,1,1,0]\n",
    "     \n",
    "    Args:\n",
    "        x: a list of string.\n",
    "        attr_matrix: a list of string as basic attributes\n",
    "    \n",
    "    Returns:\n",
    "        x_parsed: a list of string\n",
    "    \"\"\"\n",
    "    \n",
    "    x_parsed = np.isin(attr_matrix,x)\n",
    "    x_parsed = [1 if p else 0  for p in x_parsed ]\n",
    "    \n",
    "    return x_parsed"
   ]
  },
  {
   "cell_type": "code",
   "execution_count": 8,
   "id": "2fdf9f67-26f2-4f23-8661-e33cd4c3c83a",
   "metadata": {},
   "outputs": [
    {
     "name": "stdout",
     "output_type": "stream",
     "text": [
      "time: 0 ns (started: 2021-10-25 19:58:06 +08:00)\n"
     ]
    }
   ],
   "source": [
    "portfolio[['channel_email', 'channel_mobile', 'channel_social', 'channel_web']]=pd.DataFrame(portfolio.apply(lambda x:parse_channel(x['channels']),axis=1).to_list(),index=portfolio.index)\n"
   ]
  },
  {
   "cell_type": "code",
   "execution_count": 9,
   "id": "2cf4ee10-cc77-4c8f-ae06-6143a8fef6be",
   "metadata": {},
   "outputs": [
    {
     "name": "stdout",
     "output_type": "stream",
     "text": [
      "time: 0 ns (started: 2021-10-25 19:58:06 +08:00)\n"
     ]
    }
   ],
   "source": [
    "# transfer `offer_type` into dummoy columns\n",
    "offer_type_dummy = pd.get_dummies(portfolio['offer_type'],prefix='type')\n",
    "portfolio = portfolio.merge(offer_type_dummy,left_index=True,right_index=True)\n"
   ]
  },
  {
   "cell_type": "code",
   "execution_count": 10,
   "id": "62d3874d-fbba-40df-bd2c-9ac275c64460",
   "metadata": {},
   "outputs": [
    {
     "data": {
      "text/plain": [
       "0    7\n",
       "1    4\n",
       "2    3\n",
       "3    6\n",
       "4    0\n",
       "5    1\n",
       "6    9\n",
       "7    5\n",
       "8    8\n",
       "9    2\n",
       "dtype: int8"
      ]
     },
     "execution_count": 10,
     "metadata": {},
     "output_type": "execute_result"
    },
    {
     "name": "stdout",
     "output_type": "stream",
     "text": [
      "time: 0 ns (started: 2021-10-25 19:58:06 +08:00)\n"
     ]
    }
   ],
   "source": [
    "portfolio['id'].astype('category').cat.codes"
   ]
  },
  {
   "cell_type": "code",
   "execution_count": 11,
   "id": "53ee1d7e-e866-458f-9732-9b2e37b8bd84",
   "metadata": {},
   "outputs": [
    {
     "name": "stdout",
     "output_type": "stream",
     "text": [
      "time: 0 ns (started: 2021-10-25 19:58:06 +08:00)\n"
     ]
    }
   ],
   "source": [
    "# transfer `offer_id` into code\n",
    "portfolio['offer_code'] = portfolio['id'].map(lambda x:x[-3:])"
   ]
  },
  {
   "cell_type": "code",
   "execution_count": 12,
   "id": "d836fc55-3f3c-4a22-a965-f34aaafd73c3",
   "metadata": {},
   "outputs": [
    {
     "name": "stdout",
     "output_type": "stream",
     "text": [
      "time: 0 ns (started: 2021-10-25 19:58:06 +08:00)\n"
     ]
    }
   ],
   "source": [
    "# add a column `return` to compute the return of each offer, 0.0001 to avoid `divided by zero`\n",
    "portfolio['return'] = portfolio.apply(lambda x:x['reward']/(x['difficulty']+0.0001),axis=1)"
   ]
  },
  {
   "cell_type": "code",
   "execution_count": 13,
   "id": "6ad7b808-348a-4387-8aa1-96100d15f1b3",
   "metadata": {},
   "outputs": [
    {
     "data": {
      "text/html": [
       "<div>\n",
       "<style scoped>\n",
       "    .dataframe tbody tr th:only-of-type {\n",
       "        vertical-align: middle;\n",
       "    }\n",
       "\n",
       "    .dataframe tbody tr th {\n",
       "        vertical-align: top;\n",
       "    }\n",
       "\n",
       "    .dataframe thead th {\n",
       "        text-align: right;\n",
       "    }\n",
       "</style>\n",
       "<table border=\"1\" class=\"dataframe\">\n",
       "  <thead>\n",
       "    <tr style=\"text-align: right;\">\n",
       "      <th></th>\n",
       "      <th>reward</th>\n",
       "      <th>difficulty</th>\n",
       "      <th>duration</th>\n",
       "      <th>offer_type</th>\n",
       "      <th>id</th>\n",
       "      <th>channel_email</th>\n",
       "      <th>channel_mobile</th>\n",
       "      <th>channel_social</th>\n",
       "      <th>channel_web</th>\n",
       "      <th>type_bogo</th>\n",
       "      <th>type_discount</th>\n",
       "      <th>type_informational</th>\n",
       "      <th>offer_code</th>\n",
       "      <th>return</th>\n",
       "    </tr>\n",
       "  </thead>\n",
       "  <tbody>\n",
       "    <tr>\n",
       "      <th>0</th>\n",
       "      <td>10</td>\n",
       "      <td>10</td>\n",
       "      <td>7</td>\n",
       "      <td>bogo</td>\n",
       "      <td>ae264e3637204a6fb9bb56bc8210ddfd</td>\n",
       "      <td>1</td>\n",
       "      <td>1</td>\n",
       "      <td>1</td>\n",
       "      <td>0</td>\n",
       "      <td>1</td>\n",
       "      <td>0</td>\n",
       "      <td>0</td>\n",
       "      <td>dfd</td>\n",
       "      <td>0.999990</td>\n",
       "    </tr>\n",
       "    <tr>\n",
       "      <th>1</th>\n",
       "      <td>10</td>\n",
       "      <td>10</td>\n",
       "      <td>5</td>\n",
       "      <td>bogo</td>\n",
       "      <td>4d5c57ea9a6940dd891ad53e9dbe8da0</td>\n",
       "      <td>1</td>\n",
       "      <td>1</td>\n",
       "      <td>1</td>\n",
       "      <td>1</td>\n",
       "      <td>1</td>\n",
       "      <td>0</td>\n",
       "      <td>0</td>\n",
       "      <td>da0</td>\n",
       "      <td>0.999990</td>\n",
       "    </tr>\n",
       "    <tr>\n",
       "      <th>2</th>\n",
       "      <td>0</td>\n",
       "      <td>0</td>\n",
       "      <td>4</td>\n",
       "      <td>informational</td>\n",
       "      <td>3f207df678b143eea3cee63160fa8bed</td>\n",
       "      <td>1</td>\n",
       "      <td>1</td>\n",
       "      <td>0</td>\n",
       "      <td>1</td>\n",
       "      <td>0</td>\n",
       "      <td>0</td>\n",
       "      <td>1</td>\n",
       "      <td>bed</td>\n",
       "      <td>0.000000</td>\n",
       "    </tr>\n",
       "    <tr>\n",
       "      <th>3</th>\n",
       "      <td>5</td>\n",
       "      <td>5</td>\n",
       "      <td>7</td>\n",
       "      <td>bogo</td>\n",
       "      <td>9b98b8c7a33c4b65b9aebfe6a799e6d9</td>\n",
       "      <td>1</td>\n",
       "      <td>1</td>\n",
       "      <td>0</td>\n",
       "      <td>1</td>\n",
       "      <td>1</td>\n",
       "      <td>0</td>\n",
       "      <td>0</td>\n",
       "      <td>6d9</td>\n",
       "      <td>0.999980</td>\n",
       "    </tr>\n",
       "    <tr>\n",
       "      <th>4</th>\n",
       "      <td>5</td>\n",
       "      <td>20</td>\n",
       "      <td>10</td>\n",
       "      <td>discount</td>\n",
       "      <td>0b1e1539f2cc45b7b9fa7c272da2e1d7</td>\n",
       "      <td>1</td>\n",
       "      <td>0</td>\n",
       "      <td>0</td>\n",
       "      <td>1</td>\n",
       "      <td>0</td>\n",
       "      <td>1</td>\n",
       "      <td>0</td>\n",
       "      <td>1d7</td>\n",
       "      <td>0.249999</td>\n",
       "    </tr>\n",
       "    <tr>\n",
       "      <th>5</th>\n",
       "      <td>3</td>\n",
       "      <td>7</td>\n",
       "      <td>7</td>\n",
       "      <td>discount</td>\n",
       "      <td>2298d6c36e964ae4a3e7e9706d1fb8c2</td>\n",
       "      <td>1</td>\n",
       "      <td>1</td>\n",
       "      <td>1</td>\n",
       "      <td>1</td>\n",
       "      <td>0</td>\n",
       "      <td>1</td>\n",
       "      <td>0</td>\n",
       "      <td>8c2</td>\n",
       "      <td>0.428565</td>\n",
       "    </tr>\n",
       "    <tr>\n",
       "      <th>6</th>\n",
       "      <td>2</td>\n",
       "      <td>10</td>\n",
       "      <td>10</td>\n",
       "      <td>discount</td>\n",
       "      <td>fafdcd668e3743c1bb461111dcafc2a4</td>\n",
       "      <td>1</td>\n",
       "      <td>1</td>\n",
       "      <td>1</td>\n",
       "      <td>1</td>\n",
       "      <td>0</td>\n",
       "      <td>1</td>\n",
       "      <td>0</td>\n",
       "      <td>2a4</td>\n",
       "      <td>0.199998</td>\n",
       "    </tr>\n",
       "    <tr>\n",
       "      <th>7</th>\n",
       "      <td>0</td>\n",
       "      <td>0</td>\n",
       "      <td>3</td>\n",
       "      <td>informational</td>\n",
       "      <td>5a8bc65990b245e5a138643cd4eb9837</td>\n",
       "      <td>1</td>\n",
       "      <td>1</td>\n",
       "      <td>1</td>\n",
       "      <td>0</td>\n",
       "      <td>0</td>\n",
       "      <td>0</td>\n",
       "      <td>1</td>\n",
       "      <td>837</td>\n",
       "      <td>0.000000</td>\n",
       "    </tr>\n",
       "    <tr>\n",
       "      <th>8</th>\n",
       "      <td>5</td>\n",
       "      <td>5</td>\n",
       "      <td>5</td>\n",
       "      <td>bogo</td>\n",
       "      <td>f19421c1d4aa40978ebb69ca19b0e20d</td>\n",
       "      <td>1</td>\n",
       "      <td>1</td>\n",
       "      <td>1</td>\n",
       "      <td>1</td>\n",
       "      <td>1</td>\n",
       "      <td>0</td>\n",
       "      <td>0</td>\n",
       "      <td>20d</td>\n",
       "      <td>0.999980</td>\n",
       "    </tr>\n",
       "    <tr>\n",
       "      <th>9</th>\n",
       "      <td>2</td>\n",
       "      <td>10</td>\n",
       "      <td>7</td>\n",
       "      <td>discount</td>\n",
       "      <td>2906b810c7d4411798c6938adc9daaa5</td>\n",
       "      <td>1</td>\n",
       "      <td>1</td>\n",
       "      <td>0</td>\n",
       "      <td>1</td>\n",
       "      <td>0</td>\n",
       "      <td>1</td>\n",
       "      <td>0</td>\n",
       "      <td>aa5</td>\n",
       "      <td>0.199998</td>\n",
       "    </tr>\n",
       "  </tbody>\n",
       "</table>\n",
       "</div>"
      ],
      "text/plain": [
       "   reward  difficulty  duration     offer_type  \\\n",
       "0      10          10         7           bogo   \n",
       "1      10          10         5           bogo   \n",
       "2       0           0         4  informational   \n",
       "3       5           5         7           bogo   \n",
       "4       5          20        10       discount   \n",
       "5       3           7         7       discount   \n",
       "6       2          10        10       discount   \n",
       "7       0           0         3  informational   \n",
       "8       5           5         5           bogo   \n",
       "9       2          10         7       discount   \n",
       "\n",
       "                                 id  channel_email  channel_mobile  \\\n",
       "0  ae264e3637204a6fb9bb56bc8210ddfd              1               1   \n",
       "1  4d5c57ea9a6940dd891ad53e9dbe8da0              1               1   \n",
       "2  3f207df678b143eea3cee63160fa8bed              1               1   \n",
       "3  9b98b8c7a33c4b65b9aebfe6a799e6d9              1               1   \n",
       "4  0b1e1539f2cc45b7b9fa7c272da2e1d7              1               0   \n",
       "5  2298d6c36e964ae4a3e7e9706d1fb8c2              1               1   \n",
       "6  fafdcd668e3743c1bb461111dcafc2a4              1               1   \n",
       "7  5a8bc65990b245e5a138643cd4eb9837              1               1   \n",
       "8  f19421c1d4aa40978ebb69ca19b0e20d              1               1   \n",
       "9  2906b810c7d4411798c6938adc9daaa5              1               1   \n",
       "\n",
       "   channel_social  channel_web  type_bogo  type_discount  type_informational  \\\n",
       "0               1            0          1              0                   0   \n",
       "1               1            1          1              0                   0   \n",
       "2               0            1          0              0                   1   \n",
       "3               0            1          1              0                   0   \n",
       "4               0            1          0              1                   0   \n",
       "5               1            1          0              1                   0   \n",
       "6               1            1          0              1                   0   \n",
       "7               1            0          0              0                   1   \n",
       "8               1            1          1              0                   0   \n",
       "9               0            1          0              1                   0   \n",
       "\n",
       "  offer_code    return  \n",
       "0        dfd  0.999990  \n",
       "1        da0  0.999990  \n",
       "2        bed  0.000000  \n",
       "3        6d9  0.999980  \n",
       "4        1d7  0.249999  \n",
       "5        8c2  0.428565  \n",
       "6        2a4  0.199998  \n",
       "7        837  0.000000  \n",
       "8        20d  0.999980  \n",
       "9        aa5  0.199998  "
      ]
     },
     "execution_count": 13,
     "metadata": {},
     "output_type": "execute_result"
    },
    {
     "name": "stdout",
     "output_type": "stream",
     "text": [
      "time: 15 ms (started: 2021-10-25 19:58:06 +08:00)\n"
     ]
    }
   ],
   "source": [
    "# drop some parsed columns\n",
    "portfolio_clean = portfolio.drop(['channels'],axis=1)\n",
    "portfolio_clean"
   ]
  },
  {
   "cell_type": "code",
   "execution_count": 14,
   "id": "8d7c7689-8d8f-4e5b-8cf3-875a344337de",
   "metadata": {},
   "outputs": [
    {
     "name": "stdout",
     "output_type": "stream",
     "text": [
      "time: 0 ns (started: 2021-10-25 19:58:07 +08:00)\n"
     ]
    }
   ],
   "source": [
    "# save clean results\n",
    "portfolio_clean.to_csv('portfolio_clean.csv')"
   ]
  },
  {
   "cell_type": "markdown",
   "id": "21aa1952-62b2-4bfa-91c2-b32d9b479a42",
   "metadata": {},
   "source": [
    "# Clean transcript"
   ]
  },
  {
   "cell_type": "code",
   "execution_count": 15,
   "id": "77cc7b19-353c-421c-82b9-2e0c53cf0a55",
   "metadata": {},
   "outputs": [
    {
     "data": {
      "text/html": [
       "<div>\n",
       "<style scoped>\n",
       "    .dataframe tbody tr th:only-of-type {\n",
       "        vertical-align: middle;\n",
       "    }\n",
       "\n",
       "    .dataframe tbody tr th {\n",
       "        vertical-align: top;\n",
       "    }\n",
       "\n",
       "    .dataframe thead th {\n",
       "        text-align: right;\n",
       "    }\n",
       "</style>\n",
       "<table border=\"1\" class=\"dataframe\">\n",
       "  <thead>\n",
       "    <tr style=\"text-align: right;\">\n",
       "      <th></th>\n",
       "      <th>person</th>\n",
       "      <th>event</th>\n",
       "      <th>value</th>\n",
       "      <th>time</th>\n",
       "    </tr>\n",
       "  </thead>\n",
       "  <tbody>\n",
       "    <tr>\n",
       "      <th>0</th>\n",
       "      <td>78afa995795e4d85b5d9ceeca43f5fef</td>\n",
       "      <td>offer received</td>\n",
       "      <td>{'offer id': '9b98b8c7a33c4b65b9aebfe6a799e6d9'}</td>\n",
       "      <td>0</td>\n",
       "    </tr>\n",
       "    <tr>\n",
       "      <th>1</th>\n",
       "      <td>a03223e636434f42ac4c3df47e8bac43</td>\n",
       "      <td>offer received</td>\n",
       "      <td>{'offer id': '0b1e1539f2cc45b7b9fa7c272da2e1d7'}</td>\n",
       "      <td>0</td>\n",
       "    </tr>\n",
       "    <tr>\n",
       "      <th>2</th>\n",
       "      <td>e2127556f4f64592b11af22de27a7932</td>\n",
       "      <td>offer received</td>\n",
       "      <td>{'offer id': '2906b810c7d4411798c6938adc9daaa5'}</td>\n",
       "      <td>0</td>\n",
       "    </tr>\n",
       "    <tr>\n",
       "      <th>3</th>\n",
       "      <td>8ec6ce2a7e7949b1bf142def7d0e0586</td>\n",
       "      <td>offer received</td>\n",
       "      <td>{'offer id': 'fafdcd668e3743c1bb461111dcafc2a4'}</td>\n",
       "      <td>0</td>\n",
       "    </tr>\n",
       "    <tr>\n",
       "      <th>4</th>\n",
       "      <td>68617ca6246f4fbc85e91a2a49552598</td>\n",
       "      <td>offer received</td>\n",
       "      <td>{'offer id': '4d5c57ea9a6940dd891ad53e9dbe8da0'}</td>\n",
       "      <td>0</td>\n",
       "    </tr>\n",
       "  </tbody>\n",
       "</table>\n",
       "</div>"
      ],
      "text/plain": [
       "                             person           event  \\\n",
       "0  78afa995795e4d85b5d9ceeca43f5fef  offer received   \n",
       "1  a03223e636434f42ac4c3df47e8bac43  offer received   \n",
       "2  e2127556f4f64592b11af22de27a7932  offer received   \n",
       "3  8ec6ce2a7e7949b1bf142def7d0e0586  offer received   \n",
       "4  68617ca6246f4fbc85e91a2a49552598  offer received   \n",
       "\n",
       "                                              value  time  \n",
       "0  {'offer id': '9b98b8c7a33c4b65b9aebfe6a799e6d9'}     0  \n",
       "1  {'offer id': '0b1e1539f2cc45b7b9fa7c272da2e1d7'}     0  \n",
       "2  {'offer id': '2906b810c7d4411798c6938adc9daaa5'}     0  \n",
       "3  {'offer id': 'fafdcd668e3743c1bb461111dcafc2a4'}     0  \n",
       "4  {'offer id': '4d5c57ea9a6940dd891ad53e9dbe8da0'}     0  "
      ]
     },
     "execution_count": 15,
     "metadata": {},
     "output_type": "execute_result"
    },
    {
     "name": "stdout",
     "output_type": "stream",
     "text": [
      "time: 16 ms (started: 2021-10-25 19:58:07 +08:00)\n"
     ]
    }
   ],
   "source": [
    "transcript.head(5)"
   ]
  },
  {
   "cell_type": "markdown",
   "id": "625ebe03-0269-43c9-8c0c-b27f3bd3215f",
   "metadata": {},
   "source": [
    "## value\n",
    "clean `value` column to extract keys and values"
   ]
  },
  {
   "cell_type": "code",
   "execution_count": 16,
   "id": "c4f23494-7351-4945-b56e-4bed7e88aa48",
   "metadata": {},
   "outputs": [
    {
     "name": "stdout",
     "output_type": "stream",
     "text": [
      "time: 156 ms (started: 2021-10-25 19:58:07 +08:00)\n"
     ]
    }
   ],
   "source": [
    "transcript['keys'] = transcript['value'].map(lambda x:tuple(x.keys()))"
   ]
  },
  {
   "cell_type": "code",
   "execution_count": 17,
   "id": "b706d269-ccc5-41f9-b8cb-171fafae0aed",
   "metadata": {},
   "outputs": [
    {
     "data": {
      "text/plain": [
       "(amount,)             138953\n",
       "(offer id,)           134002\n",
       "(offer_id, reward)     33579\n",
       "Name: keys, dtype: int64"
      ]
     },
     "execution_count": 17,
     "metadata": {},
     "output_type": "execute_result"
    },
    {
     "name": "stdout",
     "output_type": "stream",
     "text": [
      "time: 47 ms (started: 2021-10-25 19:58:07 +08:00)\n"
     ]
    }
   ],
   "source": [
    "transcript['keys'].value_counts()"
   ]
  },
  {
   "cell_type": "code",
   "execution_count": 18,
   "id": "0c5ea26b-1b05-4c6f-b0b7-7f353c718bca",
   "metadata": {},
   "outputs": [
    {
     "data": {
      "text/plain": [
       "0"
      ]
     },
     "execution_count": 18,
     "metadata": {},
     "output_type": "execute_result"
    },
    {
     "name": "stdout",
     "output_type": "stream",
     "text": [
      "time: 15 ms (started: 2021-10-25 19:58:07 +08:00)\n"
     ]
    }
   ],
   "source": [
    "np.count_nonzero(transcript['keys'].isna())"
   ]
  },
  {
   "cell_type": "markdown",
   "id": "dc6509ef-5a3f-4bdc-89a3-465171e5c7f6",
   "metadata": {},
   "source": [
    "the `value` columns has 3 types of info [amount,offer_id,reward]"
   ]
  },
  {
   "cell_type": "code",
   "execution_count": 19,
   "id": "563e56b3-0093-45de-8860-1dd7fd4eaab7",
   "metadata": {},
   "outputs": [
    {
     "name": "stdout",
     "output_type": "stream",
     "text": [
      "time: 0 ns (started: 2021-10-25 19:58:07 +08:00)\n"
     ]
    }
   ],
   "source": [
    "def parse_value(x:dict)->list:\n",
    "    \"\"\"parse dict x to get all the values of [amount,offer_id,reward]\n",
    "    \n",
    "    Args:\n",
    "        x: a dict\n",
    "    \n",
    "    Returns:\n",
    "        parsed: list of str\n",
    "    \"\"\"\n",
    "    amount = x.get('amount')\n",
    "    offer_id = x.get('offer id')\n",
    "    if not offer_id:\n",
    "        offer_id = x.get('offer_id')\n",
    "    reward = x.get('reward')\n",
    "    parsed = [amount,offer_id,reward]\n",
    "    return parsed"
   ]
  },
  {
   "cell_type": "markdown",
   "id": "5353ab06-6bf4-47fa-b454-268b6c813407",
   "metadata": {},
   "source": [
    "clean `value` column to extract offer_id"
   ]
  },
  {
   "cell_type": "code",
   "execution_count": 20,
   "id": "37e92b5f-205d-4523-bc08-64939db33716",
   "metadata": {},
   "outputs": [
    {
     "name": "stdout",
     "output_type": "stream",
     "text": [
      "time: 4.28 s (started: 2021-10-25 19:58:07 +08:00)\n"
     ]
    }
   ],
   "source": [
    "transcript[['amount','offer_id','reward']]=pd.DataFrame(transcript.apply(lambda x:parse_value(x['value']),axis=1).to_list(),index=transcript.index)"
   ]
  },
  {
   "cell_type": "code",
   "execution_count": 21,
   "id": "621433c9-8141-4cbc-a380-a150b96a9310",
   "metadata": {},
   "outputs": [
    {
     "name": "stdout",
     "output_type": "stream",
     "text": [
      "time: 188 ms (started: 2021-10-25 19:58:11 +08:00)\n"
     ]
    }
   ],
   "source": [
    "transcript = transcript.drop(['value','keys'],axis=1)"
   ]
  },
  {
   "cell_type": "code",
   "execution_count": 22,
   "id": "ac9b67d7-e1a9-47e0-a9a9-5c91795d7d7f",
   "metadata": {},
   "outputs": [
    {
     "data": {
      "text/html": [
       "<div>\n",
       "<style scoped>\n",
       "    .dataframe tbody tr th:only-of-type {\n",
       "        vertical-align: middle;\n",
       "    }\n",
       "\n",
       "    .dataframe tbody tr th {\n",
       "        vertical-align: top;\n",
       "    }\n",
       "\n",
       "    .dataframe thead th {\n",
       "        text-align: right;\n",
       "    }\n",
       "</style>\n",
       "<table border=\"1\" class=\"dataframe\">\n",
       "  <thead>\n",
       "    <tr style=\"text-align: right;\">\n",
       "      <th></th>\n",
       "      <th>person</th>\n",
       "      <th>event</th>\n",
       "      <th>time</th>\n",
       "      <th>amount</th>\n",
       "      <th>offer_id</th>\n",
       "      <th>reward</th>\n",
       "    </tr>\n",
       "  </thead>\n",
       "  <tbody>\n",
       "    <tr>\n",
       "      <th>306529</th>\n",
       "      <td>b3a1272bc9904337b331bf348c3e8c17</td>\n",
       "      <td>transaction</td>\n",
       "      <td>714</td>\n",
       "      <td>1.59</td>\n",
       "      <td>None</td>\n",
       "      <td>NaN</td>\n",
       "    </tr>\n",
       "    <tr>\n",
       "      <th>306530</th>\n",
       "      <td>68213b08d99a4ae1b0dcb72aebd9aa35</td>\n",
       "      <td>transaction</td>\n",
       "      <td>714</td>\n",
       "      <td>9.53</td>\n",
       "      <td>None</td>\n",
       "      <td>NaN</td>\n",
       "    </tr>\n",
       "    <tr>\n",
       "      <th>306531</th>\n",
       "      <td>a00058cf10334a308c68e7631c529907</td>\n",
       "      <td>transaction</td>\n",
       "      <td>714</td>\n",
       "      <td>3.61</td>\n",
       "      <td>None</td>\n",
       "      <td>NaN</td>\n",
       "    </tr>\n",
       "    <tr>\n",
       "      <th>306532</th>\n",
       "      <td>76ddbd6576844afe811f1a3c0fbb5bec</td>\n",
       "      <td>transaction</td>\n",
       "      <td>714</td>\n",
       "      <td>3.53</td>\n",
       "      <td>None</td>\n",
       "      <td>NaN</td>\n",
       "    </tr>\n",
       "    <tr>\n",
       "      <th>306533</th>\n",
       "      <td>c02b10e8752c4d8e9b73f918558531f7</td>\n",
       "      <td>transaction</td>\n",
       "      <td>714</td>\n",
       "      <td>4.05</td>\n",
       "      <td>None</td>\n",
       "      <td>NaN</td>\n",
       "    </tr>\n",
       "  </tbody>\n",
       "</table>\n",
       "</div>"
      ],
      "text/plain": [
       "                                  person        event  time  amount offer_id  \\\n",
       "306529  b3a1272bc9904337b331bf348c3e8c17  transaction   714    1.59     None   \n",
       "306530  68213b08d99a4ae1b0dcb72aebd9aa35  transaction   714    9.53     None   \n",
       "306531  a00058cf10334a308c68e7631c529907  transaction   714    3.61     None   \n",
       "306532  76ddbd6576844afe811f1a3c0fbb5bec  transaction   714    3.53     None   \n",
       "306533  c02b10e8752c4d8e9b73f918558531f7  transaction   714    4.05     None   \n",
       "\n",
       "        reward  \n",
       "306529     NaN  \n",
       "306530     NaN  \n",
       "306531     NaN  \n",
       "306532     NaN  \n",
       "306533     NaN  "
      ]
     },
     "execution_count": 22,
     "metadata": {},
     "output_type": "execute_result"
    },
    {
     "name": "stdout",
     "output_type": "stream",
     "text": [
      "time: 16 ms (started: 2021-10-25 19:58:11 +08:00)\n"
     ]
    }
   ],
   "source": [
    "transcript.tail()"
   ]
  },
  {
   "cell_type": "code",
   "execution_count": 23,
   "id": "10d87dc9-542d-4fa7-914e-b5ef7f627144",
   "metadata": {},
   "outputs": [
    {
     "data": {
      "text/html": [
       "<div>\n",
       "<style scoped>\n",
       "    .dataframe tbody tr th:only-of-type {\n",
       "        vertical-align: middle;\n",
       "    }\n",
       "\n",
       "    .dataframe tbody tr th {\n",
       "        vertical-align: top;\n",
       "    }\n",
       "\n",
       "    .dataframe thead th {\n",
       "        text-align: right;\n",
       "    }\n",
       "</style>\n",
       "<table border=\"1\" class=\"dataframe\">\n",
       "  <thead>\n",
       "    <tr style=\"text-align: right;\">\n",
       "      <th></th>\n",
       "      <th>reward</th>\n",
       "      <th>amount</th>\n",
       "      <th>offer_id</th>\n",
       "      <th>event</th>\n",
       "      <th>time</th>\n",
       "      <th>person</th>\n",
       "    </tr>\n",
       "  </thead>\n",
       "  <tbody>\n",
       "    <tr>\n",
       "      <th>null_count</th>\n",
       "      <td>272955</td>\n",
       "      <td>167581</td>\n",
       "      <td>138953</td>\n",
       "      <td>0</td>\n",
       "      <td>0</td>\n",
       "      <td>0</td>\n",
       "    </tr>\n",
       "    <tr>\n",
       "      <th>null_ratio</th>\n",
       "      <td>0.890456</td>\n",
       "      <td>0.546696</td>\n",
       "      <td>0.453304</td>\n",
       "      <td>0.0</td>\n",
       "      <td>0.0</td>\n",
       "      <td>0.0</td>\n",
       "    </tr>\n",
       "    <tr>\n",
       "      <th>dtypes</th>\n",
       "      <td>float64</td>\n",
       "      <td>float64</td>\n",
       "      <td>object</td>\n",
       "      <td>object</td>\n",
       "      <td>int64</td>\n",
       "      <td>object</td>\n",
       "    </tr>\n",
       "    <tr>\n",
       "      <th>value_count</th>\n",
       "      <td>33579</td>\n",
       "      <td>138953</td>\n",
       "      <td>167581</td>\n",
       "      <td>306534</td>\n",
       "      <td>306534</td>\n",
       "      <td>306534</td>\n",
       "    </tr>\n",
       "    <tr>\n",
       "      <th>uique_counts</th>\n",
       "      <td>4</td>\n",
       "      <td>5103</td>\n",
       "      <td>10</td>\n",
       "      <td>4</td>\n",
       "      <td>120</td>\n",
       "      <td>17000</td>\n",
       "    </tr>\n",
       "    <tr>\n",
       "      <th>value_min</th>\n",
       "      <td>2.0</td>\n",
       "      <td>0.05</td>\n",
       "      <td>NaN</td>\n",
       "      <td>offer completed</td>\n",
       "      <td>0</td>\n",
       "      <td>0009655768c64bdeb2e877511632db8f</td>\n",
       "    </tr>\n",
       "    <tr>\n",
       "      <th>value_max</th>\n",
       "      <td>10.0</td>\n",
       "      <td>1062.28</td>\n",
       "      <td>NaN</td>\n",
       "      <td>transaction</td>\n",
       "      <td>714</td>\n",
       "      <td>ffff82501cea40309d5fdd7edcca4a07</td>\n",
       "    </tr>\n",
       "    <tr>\n",
       "      <th>value_median</th>\n",
       "      <td>5.0</td>\n",
       "      <td>8.89</td>\n",
       "      <td>NaN</td>\n",
       "      <td>NaN</td>\n",
       "      <td>408.0</td>\n",
       "      <td>NaN</td>\n",
       "    </tr>\n",
       "  </tbody>\n",
       "</table>\n",
       "</div>"
      ],
      "text/plain": [
       "                reward    amount  offer_id            event    time  \\\n",
       "null_count      272955    167581    138953                0       0   \n",
       "null_ratio    0.890456  0.546696  0.453304              0.0     0.0   \n",
       "dtypes         float64   float64    object           object   int64   \n",
       "value_count      33579    138953    167581           306534  306534   \n",
       "uique_counts         4      5103        10                4     120   \n",
       "value_min          2.0      0.05       NaN  offer completed       0   \n",
       "value_max         10.0   1062.28       NaN      transaction     714   \n",
       "value_median       5.0      8.89       NaN              NaN   408.0   \n",
       "\n",
       "                                        person  \n",
       "null_count                                   0  \n",
       "null_ratio                                 0.0  \n",
       "dtypes                                  object  \n",
       "value_count                             306534  \n",
       "uique_counts                             17000  \n",
       "value_min     0009655768c64bdeb2e877511632db8f  \n",
       "value_max     ffff82501cea40309d5fdd7edcca4a07  \n",
       "value_median                               NaN  "
      ]
     },
     "execution_count": 23,
     "metadata": {},
     "output_type": "execute_result"
    },
    {
     "name": "stdout",
     "output_type": "stream",
     "text": [
      "time: 984 ms (started: 2021-10-25 19:58:11 +08:00)\n"
     ]
    }
   ],
   "source": [
    "show_desc(transcript)"
   ]
  },
  {
   "cell_type": "code",
   "execution_count": 24,
   "id": "cd59c568-03a6-40a7-a72f-0b5666f1172a",
   "metadata": {},
   "outputs": [
    {
     "data": {
      "text/html": [
       "<div>\n",
       "<style scoped>\n",
       "    .dataframe tbody tr th:only-of-type {\n",
       "        vertical-align: middle;\n",
       "    }\n",
       "\n",
       "    .dataframe tbody tr th {\n",
       "        vertical-align: top;\n",
       "    }\n",
       "\n",
       "    .dataframe thead th {\n",
       "        text-align: right;\n",
       "    }\n",
       "</style>\n",
       "<table border=\"1\" class=\"dataframe\">\n",
       "  <thead>\n",
       "    <tr style=\"text-align: right;\">\n",
       "      <th></th>\n",
       "      <th>person</th>\n",
       "      <th>event</th>\n",
       "      <th>time</th>\n",
       "      <th>amount</th>\n",
       "      <th>offer_id</th>\n",
       "      <th>reward</th>\n",
       "    </tr>\n",
       "  </thead>\n",
       "  <tbody>\n",
       "    <tr>\n",
       "      <th>3066</th>\n",
       "      <td>0011e0d4e6b944f998e987f904e8c1e5</td>\n",
       "      <td>offer received</td>\n",
       "      <td>0</td>\n",
       "      <td>NaN</td>\n",
       "      <td>3f207df678b143eea3cee63160fa8bed</td>\n",
       "      <td>NaN</td>\n",
       "    </tr>\n",
       "    <tr>\n",
       "      <th>16179</th>\n",
       "      <td>0011e0d4e6b944f998e987f904e8c1e5</td>\n",
       "      <td>offer viewed</td>\n",
       "      <td>6</td>\n",
       "      <td>NaN</td>\n",
       "      <td>3f207df678b143eea3cee63160fa8bed</td>\n",
       "      <td>NaN</td>\n",
       "    </tr>\n",
       "    <tr>\n",
       "      <th>47805</th>\n",
       "      <td>0011e0d4e6b944f998e987f904e8c1e5</td>\n",
       "      <td>transaction</td>\n",
       "      <td>132</td>\n",
       "      <td>13.49</td>\n",
       "      <td>None</td>\n",
       "      <td>NaN</td>\n",
       "    </tr>\n",
       "    <tr>\n",
       "      <th>56298</th>\n",
       "      <td>0011e0d4e6b944f998e987f904e8c1e5</td>\n",
       "      <td>offer received</td>\n",
       "      <td>168</td>\n",
       "      <td>NaN</td>\n",
       "      <td>2298d6c36e964ae4a3e7e9706d1fb8c2</td>\n",
       "      <td>NaN</td>\n",
       "    </tr>\n",
       "    <tr>\n",
       "      <th>75427</th>\n",
       "      <td>0011e0d4e6b944f998e987f904e8c1e5</td>\n",
       "      <td>offer viewed</td>\n",
       "      <td>186</td>\n",
       "      <td>NaN</td>\n",
       "      <td>2298d6c36e964ae4a3e7e9706d1fb8c2</td>\n",
       "      <td>NaN</td>\n",
       "    </tr>\n",
       "    <tr>\n",
       "      <th>95421</th>\n",
       "      <td>0011e0d4e6b944f998e987f904e8c1e5</td>\n",
       "      <td>transaction</td>\n",
       "      <td>252</td>\n",
       "      <td>11.93</td>\n",
       "      <td>None</td>\n",
       "      <td>NaN</td>\n",
       "    </tr>\n",
       "    <tr>\n",
       "      <th>95422</th>\n",
       "      <td>0011e0d4e6b944f998e987f904e8c1e5</td>\n",
       "      <td>offer completed</td>\n",
       "      <td>252</td>\n",
       "      <td>NaN</td>\n",
       "      <td>2298d6c36e964ae4a3e7e9706d1fb8c2</td>\n",
       "      <td>3.0</td>\n",
       "    </tr>\n",
       "    <tr>\n",
       "      <th>113919</th>\n",
       "      <td>0011e0d4e6b944f998e987f904e8c1e5</td>\n",
       "      <td>offer received</td>\n",
       "      <td>336</td>\n",
       "      <td>NaN</td>\n",
       "      <td>5a8bc65990b245e5a138643cd4eb9837</td>\n",
       "      <td>NaN</td>\n",
       "    </tr>\n",
       "    <tr>\n",
       "      <th>133370</th>\n",
       "      <td>0011e0d4e6b944f998e987f904e8c1e5</td>\n",
       "      <td>offer viewed</td>\n",
       "      <td>354</td>\n",
       "      <td>NaN</td>\n",
       "      <td>5a8bc65990b245e5a138643cd4eb9837</td>\n",
       "      <td>NaN</td>\n",
       "    </tr>\n",
       "    <tr>\n",
       "      <th>153697</th>\n",
       "      <td>0011e0d4e6b944f998e987f904e8c1e5</td>\n",
       "      <td>offer received</td>\n",
       "      <td>408</td>\n",
       "      <td>NaN</td>\n",
       "      <td>0b1e1539f2cc45b7b9fa7c272da2e1d7</td>\n",
       "      <td>NaN</td>\n",
       "    </tr>\n",
       "    <tr>\n",
       "      <th>177937</th>\n",
       "      <td>0011e0d4e6b944f998e987f904e8c1e5</td>\n",
       "      <td>offer viewed</td>\n",
       "      <td>432</td>\n",
       "      <td>NaN</td>\n",
       "      <td>0b1e1539f2cc45b7b9fa7c272da2e1d7</td>\n",
       "      <td>NaN</td>\n",
       "    </tr>\n",
       "    <tr>\n",
       "      <th>204643</th>\n",
       "      <td>0011e0d4e6b944f998e987f904e8c1e5</td>\n",
       "      <td>offer received</td>\n",
       "      <td>504</td>\n",
       "      <td>NaN</td>\n",
       "      <td>9b98b8c7a33c4b65b9aebfe6a799e6d9</td>\n",
       "      <td>NaN</td>\n",
       "    </tr>\n",
       "    <tr>\n",
       "      <th>222679</th>\n",
       "      <td>0011e0d4e6b944f998e987f904e8c1e5</td>\n",
       "      <td>offer viewed</td>\n",
       "      <td>516</td>\n",
       "      <td>NaN</td>\n",
       "      <td>9b98b8c7a33c4b65b9aebfe6a799e6d9</td>\n",
       "      <td>NaN</td>\n",
       "    </tr>\n",
       "    <tr>\n",
       "      <th>258979</th>\n",
       "      <td>0011e0d4e6b944f998e987f904e8c1e5</td>\n",
       "      <td>transaction</td>\n",
       "      <td>576</td>\n",
       "      <td>22.05</td>\n",
       "      <td>None</td>\n",
       "      <td>NaN</td>\n",
       "    </tr>\n",
       "    <tr>\n",
       "      <th>258980</th>\n",
       "      <td>0011e0d4e6b944f998e987f904e8c1e5</td>\n",
       "      <td>offer completed</td>\n",
       "      <td>576</td>\n",
       "      <td>NaN</td>\n",
       "      <td>0b1e1539f2cc45b7b9fa7c272da2e1d7</td>\n",
       "      <td>5.0</td>\n",
       "    </tr>\n",
       "    <tr>\n",
       "      <th>258981</th>\n",
       "      <td>0011e0d4e6b944f998e987f904e8c1e5</td>\n",
       "      <td>offer completed</td>\n",
       "      <td>576</td>\n",
       "      <td>NaN</td>\n",
       "      <td>9b98b8c7a33c4b65b9aebfe6a799e6d9</td>\n",
       "      <td>5.0</td>\n",
       "    </tr>\n",
       "    <tr>\n",
       "      <th>288294</th>\n",
       "      <td>0011e0d4e6b944f998e987f904e8c1e5</td>\n",
       "      <td>transaction</td>\n",
       "      <td>642</td>\n",
       "      <td>23.03</td>\n",
       "      <td>None</td>\n",
       "      <td>NaN</td>\n",
       "    </tr>\n",
       "    <tr>\n",
       "      <th>291925</th>\n",
       "      <td>0011e0d4e6b944f998e987f904e8c1e5</td>\n",
       "      <td>transaction</td>\n",
       "      <td>654</td>\n",
       "      <td>8.96</td>\n",
       "      <td>None</td>\n",
       "      <td>NaN</td>\n",
       "    </tr>\n",
       "  </tbody>\n",
       "</table>\n",
       "</div>"
      ],
      "text/plain": [
       "                                  person            event  time  amount  \\\n",
       "3066    0011e0d4e6b944f998e987f904e8c1e5   offer received     0     NaN   \n",
       "16179   0011e0d4e6b944f998e987f904e8c1e5     offer viewed     6     NaN   \n",
       "47805   0011e0d4e6b944f998e987f904e8c1e5      transaction   132   13.49   \n",
       "56298   0011e0d4e6b944f998e987f904e8c1e5   offer received   168     NaN   \n",
       "75427   0011e0d4e6b944f998e987f904e8c1e5     offer viewed   186     NaN   \n",
       "95421   0011e0d4e6b944f998e987f904e8c1e5      transaction   252   11.93   \n",
       "95422   0011e0d4e6b944f998e987f904e8c1e5  offer completed   252     NaN   \n",
       "113919  0011e0d4e6b944f998e987f904e8c1e5   offer received   336     NaN   \n",
       "133370  0011e0d4e6b944f998e987f904e8c1e5     offer viewed   354     NaN   \n",
       "153697  0011e0d4e6b944f998e987f904e8c1e5   offer received   408     NaN   \n",
       "177937  0011e0d4e6b944f998e987f904e8c1e5     offer viewed   432     NaN   \n",
       "204643  0011e0d4e6b944f998e987f904e8c1e5   offer received   504     NaN   \n",
       "222679  0011e0d4e6b944f998e987f904e8c1e5     offer viewed   516     NaN   \n",
       "258979  0011e0d4e6b944f998e987f904e8c1e5      transaction   576   22.05   \n",
       "258980  0011e0d4e6b944f998e987f904e8c1e5  offer completed   576     NaN   \n",
       "258981  0011e0d4e6b944f998e987f904e8c1e5  offer completed   576     NaN   \n",
       "288294  0011e0d4e6b944f998e987f904e8c1e5      transaction   642   23.03   \n",
       "291925  0011e0d4e6b944f998e987f904e8c1e5      transaction   654    8.96   \n",
       "\n",
       "                                offer_id  reward  \n",
       "3066    3f207df678b143eea3cee63160fa8bed     NaN  \n",
       "16179   3f207df678b143eea3cee63160fa8bed     NaN  \n",
       "47805                               None     NaN  \n",
       "56298   2298d6c36e964ae4a3e7e9706d1fb8c2     NaN  \n",
       "75427   2298d6c36e964ae4a3e7e9706d1fb8c2     NaN  \n",
       "95421                               None     NaN  \n",
       "95422   2298d6c36e964ae4a3e7e9706d1fb8c2     3.0  \n",
       "113919  5a8bc65990b245e5a138643cd4eb9837     NaN  \n",
       "133370  5a8bc65990b245e5a138643cd4eb9837     NaN  \n",
       "153697  0b1e1539f2cc45b7b9fa7c272da2e1d7     NaN  \n",
       "177937  0b1e1539f2cc45b7b9fa7c272da2e1d7     NaN  \n",
       "204643  9b98b8c7a33c4b65b9aebfe6a799e6d9     NaN  \n",
       "222679  9b98b8c7a33c4b65b9aebfe6a799e6d9     NaN  \n",
       "258979                              None     NaN  \n",
       "258980  0b1e1539f2cc45b7b9fa7c272da2e1d7     5.0  \n",
       "258981  9b98b8c7a33c4b65b9aebfe6a799e6d9     5.0  \n",
       "288294                              None     NaN  \n",
       "291925                              None     NaN  "
      ]
     },
     "execution_count": 24,
     "metadata": {},
     "output_type": "execute_result"
    },
    {
     "name": "stdout",
     "output_type": "stream",
     "text": [
      "time: 15 ms (started: 2021-10-25 19:58:12 +08:00)\n"
     ]
    }
   ],
   "source": [
    "ex = transcript[transcript['person']=='0011e0d4e6b944f998e987f904e8c1e5']\n",
    "ex"
   ]
  },
  {
   "cell_type": "markdown",
   "id": "af5a77a8-ffb6-42af-bab1-8b705768c86b",
   "metadata": {},
   "source": [
    "The transcript above indicates:\n",
    "Firstly, the `time` of `transaction` and `offer completed` is same.\n",
    "Secondly, one `transaction` can involve more than one promotion offers.Such as time 576 finish `0b1e1539f2cc45b7b9fa7c272da2e1d7` and `9b98b8c7a33c4b65b9aebfe6a799e6d9`."
   ]
  },
  {
   "cell_type": "code",
   "execution_count": 25,
   "id": "e34a4f23-ff43-4f14-80b9-7f3591d971f5",
   "metadata": {},
   "outputs": [
    {
     "name": "stdout",
     "output_type": "stream",
     "text": [
      "time: 16 ms (started: 2021-10-25 19:58:12 +08:00)\n"
     ]
    }
   ],
   "source": [
    "def parse_transaction2(ef:pd.DataFrame)->pd.DataFrame:\n",
    "    \"\"\"add `offer_id` to rows of which `event` is `transaction`. And split `transaction` if it contains multi `offer_id`.\n",
    "    \n",
    "    For a full consume record, the offer event switched to `offer completed` instantly after the `transaction`.\n",
    "    That is event `transaction` and `offer completed` time are the same if one consumer finish a offer.\n",
    "    It's better to add `offer_id` to the transaction for easy data analysis.\n",
    "    \n",
    "    Args:\n",
    "        ef: Pandas.DataFrame intend to extrat\n",
    "    \n",
    "    Returns:\n",
    "        ef_parsed_all: Pandas.DataFrame parsed.\n",
    "    \"\"\"\n",
    "    # combine completed and transaction event.\n",
    "    ef_completed = ef[ef['event']=='offer completed']\n",
    "    ef_transaction = ef[ef['event']=='transaction']\n",
    "    transaction_completed= ef_completed.merge(ef_transaction,on=['person','time'],how='inner')\n",
    "    transaction_completed=transaction_completed[['person','time','event_y','offer_id_x','reward_x']]\n",
    "    # merge transaction with offer_id into ef\n",
    "    ef_parsed = ef.merge(transaction_completed,left_on=['person','time','event'],right_on=['person','time','event_y'],how='left')\n",
    "    # transfer reward onto `transaction` events.\n",
    "    ef_parsed[['reward','reward_x']] = ef_parsed[['reward','reward_x']].fillna(0)\n",
    "    ef_parsed[['offer_id','offer_id_x']] = ef_parsed[['offer_id','offer_id_x']].fillna('0')\n",
    "    ef_parsed.loc[:,'offer_idz']=ef_parsed.apply(lambda x:x['offer_id'] if len(x['offer_id'])>=len(x['offer_id_x']) else x['offer_id_x'] ,axis=1)\n",
    "    ef_parsed = ef_parsed.rename(columns={'reward_x':'rewardz'})\n",
    "    # divide amount on average \n",
    "    ef_parsed_grouped = ef_parsed.groupby(['person','time']).agg({'amount':'count'}).reset_index()\n",
    "    ef_parsed_all=ef_parsed.merge(ef_parsed_grouped,left_on=['person','time'],right_on=['person','time'])\n",
    "    ef_parsed_all['amount']=ef_parsed_all['amount_x']/ef_parsed_all['amount_y']\n",
    "    # drop unused columns and rename\n",
    "    ef_parsed_all = ef_parsed_all.drop(['amount_x','amount_y','event_y','offer_id_x','offer_id','reward'],axis=1)\n",
    "    ef_parsed_all = ef_parsed_all.rename(columns={'offer_idz':'offer_id','rewardz':'reward'})\n",
    "    return ef_parsed_all\n",
    "    "
   ]
  },
  {
   "cell_type": "markdown",
   "id": "182b3681-a334-4510-b96f-0f727327d888",
   "metadata": {},
   "source": [
    "As below shows, fucntion `parse_transaction2` add `offer_id` to tranaction event and divide it with the amount of `offer_id`"
   ]
  },
  {
   "cell_type": "code",
   "execution_count": 26,
   "id": "857ca80c-2450-44d4-821b-edd1e658afd3",
   "metadata": {},
   "outputs": [
    {
     "data": {
      "text/html": [
       "<div>\n",
       "<style scoped>\n",
       "    .dataframe tbody tr th:only-of-type {\n",
       "        vertical-align: middle;\n",
       "    }\n",
       "\n",
       "    .dataframe tbody tr th {\n",
       "        vertical-align: top;\n",
       "    }\n",
       "\n",
       "    .dataframe thead th {\n",
       "        text-align: right;\n",
       "    }\n",
       "</style>\n",
       "<table border=\"1\" class=\"dataframe\">\n",
       "  <thead>\n",
       "    <tr style=\"text-align: right;\">\n",
       "      <th></th>\n",
       "      <th>person</th>\n",
       "      <th>event</th>\n",
       "      <th>time</th>\n",
       "      <th>reward</th>\n",
       "      <th>offer_id</th>\n",
       "      <th>amount</th>\n",
       "    </tr>\n",
       "  </thead>\n",
       "  <tbody>\n",
       "    <tr>\n",
       "      <th>0</th>\n",
       "      <td>0011e0d4e6b944f998e987f904e8c1e5</td>\n",
       "      <td>offer received</td>\n",
       "      <td>0</td>\n",
       "      <td>0.0</td>\n",
       "      <td>3f207df678b143eea3cee63160fa8bed</td>\n",
       "      <td>NaN</td>\n",
       "    </tr>\n",
       "    <tr>\n",
       "      <th>1</th>\n",
       "      <td>0011e0d4e6b944f998e987f904e8c1e5</td>\n",
       "      <td>offer viewed</td>\n",
       "      <td>6</td>\n",
       "      <td>0.0</td>\n",
       "      <td>3f207df678b143eea3cee63160fa8bed</td>\n",
       "      <td>NaN</td>\n",
       "    </tr>\n",
       "    <tr>\n",
       "      <th>2</th>\n",
       "      <td>0011e0d4e6b944f998e987f904e8c1e5</td>\n",
       "      <td>transaction</td>\n",
       "      <td>132</td>\n",
       "      <td>0.0</td>\n",
       "      <td>0</td>\n",
       "      <td>13.490</td>\n",
       "    </tr>\n",
       "    <tr>\n",
       "      <th>3</th>\n",
       "      <td>0011e0d4e6b944f998e987f904e8c1e5</td>\n",
       "      <td>offer received</td>\n",
       "      <td>168</td>\n",
       "      <td>0.0</td>\n",
       "      <td>2298d6c36e964ae4a3e7e9706d1fb8c2</td>\n",
       "      <td>NaN</td>\n",
       "    </tr>\n",
       "    <tr>\n",
       "      <th>4</th>\n",
       "      <td>0011e0d4e6b944f998e987f904e8c1e5</td>\n",
       "      <td>offer viewed</td>\n",
       "      <td>186</td>\n",
       "      <td>0.0</td>\n",
       "      <td>2298d6c36e964ae4a3e7e9706d1fb8c2</td>\n",
       "      <td>NaN</td>\n",
       "    </tr>\n",
       "    <tr>\n",
       "      <th>5</th>\n",
       "      <td>0011e0d4e6b944f998e987f904e8c1e5</td>\n",
       "      <td>transaction</td>\n",
       "      <td>252</td>\n",
       "      <td>3.0</td>\n",
       "      <td>2298d6c36e964ae4a3e7e9706d1fb8c2</td>\n",
       "      <td>11.930</td>\n",
       "    </tr>\n",
       "    <tr>\n",
       "      <th>6</th>\n",
       "      <td>0011e0d4e6b944f998e987f904e8c1e5</td>\n",
       "      <td>offer completed</td>\n",
       "      <td>252</td>\n",
       "      <td>0.0</td>\n",
       "      <td>2298d6c36e964ae4a3e7e9706d1fb8c2</td>\n",
       "      <td>NaN</td>\n",
       "    </tr>\n",
       "    <tr>\n",
       "      <th>7</th>\n",
       "      <td>0011e0d4e6b944f998e987f904e8c1e5</td>\n",
       "      <td>offer received</td>\n",
       "      <td>336</td>\n",
       "      <td>0.0</td>\n",
       "      <td>5a8bc65990b245e5a138643cd4eb9837</td>\n",
       "      <td>NaN</td>\n",
       "    </tr>\n",
       "    <tr>\n",
       "      <th>8</th>\n",
       "      <td>0011e0d4e6b944f998e987f904e8c1e5</td>\n",
       "      <td>offer viewed</td>\n",
       "      <td>354</td>\n",
       "      <td>0.0</td>\n",
       "      <td>5a8bc65990b245e5a138643cd4eb9837</td>\n",
       "      <td>NaN</td>\n",
       "    </tr>\n",
       "    <tr>\n",
       "      <th>9</th>\n",
       "      <td>0011e0d4e6b944f998e987f904e8c1e5</td>\n",
       "      <td>offer received</td>\n",
       "      <td>408</td>\n",
       "      <td>0.0</td>\n",
       "      <td>0b1e1539f2cc45b7b9fa7c272da2e1d7</td>\n",
       "      <td>NaN</td>\n",
       "    </tr>\n",
       "    <tr>\n",
       "      <th>10</th>\n",
       "      <td>0011e0d4e6b944f998e987f904e8c1e5</td>\n",
       "      <td>offer viewed</td>\n",
       "      <td>432</td>\n",
       "      <td>0.0</td>\n",
       "      <td>0b1e1539f2cc45b7b9fa7c272da2e1d7</td>\n",
       "      <td>NaN</td>\n",
       "    </tr>\n",
       "    <tr>\n",
       "      <th>11</th>\n",
       "      <td>0011e0d4e6b944f998e987f904e8c1e5</td>\n",
       "      <td>offer received</td>\n",
       "      <td>504</td>\n",
       "      <td>0.0</td>\n",
       "      <td>9b98b8c7a33c4b65b9aebfe6a799e6d9</td>\n",
       "      <td>NaN</td>\n",
       "    </tr>\n",
       "    <tr>\n",
       "      <th>12</th>\n",
       "      <td>0011e0d4e6b944f998e987f904e8c1e5</td>\n",
       "      <td>offer viewed</td>\n",
       "      <td>516</td>\n",
       "      <td>0.0</td>\n",
       "      <td>9b98b8c7a33c4b65b9aebfe6a799e6d9</td>\n",
       "      <td>NaN</td>\n",
       "    </tr>\n",
       "    <tr>\n",
       "      <th>13</th>\n",
       "      <td>0011e0d4e6b944f998e987f904e8c1e5</td>\n",
       "      <td>transaction</td>\n",
       "      <td>576</td>\n",
       "      <td>5.0</td>\n",
       "      <td>0b1e1539f2cc45b7b9fa7c272da2e1d7</td>\n",
       "      <td>11.025</td>\n",
       "    </tr>\n",
       "    <tr>\n",
       "      <th>14</th>\n",
       "      <td>0011e0d4e6b944f998e987f904e8c1e5</td>\n",
       "      <td>transaction</td>\n",
       "      <td>576</td>\n",
       "      <td>5.0</td>\n",
       "      <td>9b98b8c7a33c4b65b9aebfe6a799e6d9</td>\n",
       "      <td>11.025</td>\n",
       "    </tr>\n",
       "    <tr>\n",
       "      <th>15</th>\n",
       "      <td>0011e0d4e6b944f998e987f904e8c1e5</td>\n",
       "      <td>offer completed</td>\n",
       "      <td>576</td>\n",
       "      <td>0.0</td>\n",
       "      <td>0b1e1539f2cc45b7b9fa7c272da2e1d7</td>\n",
       "      <td>NaN</td>\n",
       "    </tr>\n",
       "    <tr>\n",
       "      <th>16</th>\n",
       "      <td>0011e0d4e6b944f998e987f904e8c1e5</td>\n",
       "      <td>offer completed</td>\n",
       "      <td>576</td>\n",
       "      <td>0.0</td>\n",
       "      <td>9b98b8c7a33c4b65b9aebfe6a799e6d9</td>\n",
       "      <td>NaN</td>\n",
       "    </tr>\n",
       "    <tr>\n",
       "      <th>17</th>\n",
       "      <td>0011e0d4e6b944f998e987f904e8c1e5</td>\n",
       "      <td>transaction</td>\n",
       "      <td>642</td>\n",
       "      <td>0.0</td>\n",
       "      <td>0</td>\n",
       "      <td>23.030</td>\n",
       "    </tr>\n",
       "    <tr>\n",
       "      <th>18</th>\n",
       "      <td>0011e0d4e6b944f998e987f904e8c1e5</td>\n",
       "      <td>transaction</td>\n",
       "      <td>654</td>\n",
       "      <td>0.0</td>\n",
       "      <td>0</td>\n",
       "      <td>8.960</td>\n",
       "    </tr>\n",
       "  </tbody>\n",
       "</table>\n",
       "</div>"
      ],
      "text/plain": [
       "                              person            event  time  reward  \\\n",
       "0   0011e0d4e6b944f998e987f904e8c1e5   offer received     0     0.0   \n",
       "1   0011e0d4e6b944f998e987f904e8c1e5     offer viewed     6     0.0   \n",
       "2   0011e0d4e6b944f998e987f904e8c1e5      transaction   132     0.0   \n",
       "3   0011e0d4e6b944f998e987f904e8c1e5   offer received   168     0.0   \n",
       "4   0011e0d4e6b944f998e987f904e8c1e5     offer viewed   186     0.0   \n",
       "5   0011e0d4e6b944f998e987f904e8c1e5      transaction   252     3.0   \n",
       "6   0011e0d4e6b944f998e987f904e8c1e5  offer completed   252     0.0   \n",
       "7   0011e0d4e6b944f998e987f904e8c1e5   offer received   336     0.0   \n",
       "8   0011e0d4e6b944f998e987f904e8c1e5     offer viewed   354     0.0   \n",
       "9   0011e0d4e6b944f998e987f904e8c1e5   offer received   408     0.0   \n",
       "10  0011e0d4e6b944f998e987f904e8c1e5     offer viewed   432     0.0   \n",
       "11  0011e0d4e6b944f998e987f904e8c1e5   offer received   504     0.0   \n",
       "12  0011e0d4e6b944f998e987f904e8c1e5     offer viewed   516     0.0   \n",
       "13  0011e0d4e6b944f998e987f904e8c1e5      transaction   576     5.0   \n",
       "14  0011e0d4e6b944f998e987f904e8c1e5      transaction   576     5.0   \n",
       "15  0011e0d4e6b944f998e987f904e8c1e5  offer completed   576     0.0   \n",
       "16  0011e0d4e6b944f998e987f904e8c1e5  offer completed   576     0.0   \n",
       "17  0011e0d4e6b944f998e987f904e8c1e5      transaction   642     0.0   \n",
       "18  0011e0d4e6b944f998e987f904e8c1e5      transaction   654     0.0   \n",
       "\n",
       "                            offer_id  amount  \n",
       "0   3f207df678b143eea3cee63160fa8bed     NaN  \n",
       "1   3f207df678b143eea3cee63160fa8bed     NaN  \n",
       "2                                  0  13.490  \n",
       "3   2298d6c36e964ae4a3e7e9706d1fb8c2     NaN  \n",
       "4   2298d6c36e964ae4a3e7e9706d1fb8c2     NaN  \n",
       "5   2298d6c36e964ae4a3e7e9706d1fb8c2  11.930  \n",
       "6   2298d6c36e964ae4a3e7e9706d1fb8c2     NaN  \n",
       "7   5a8bc65990b245e5a138643cd4eb9837     NaN  \n",
       "8   5a8bc65990b245e5a138643cd4eb9837     NaN  \n",
       "9   0b1e1539f2cc45b7b9fa7c272da2e1d7     NaN  \n",
       "10  0b1e1539f2cc45b7b9fa7c272da2e1d7     NaN  \n",
       "11  9b98b8c7a33c4b65b9aebfe6a799e6d9     NaN  \n",
       "12  9b98b8c7a33c4b65b9aebfe6a799e6d9     NaN  \n",
       "13  0b1e1539f2cc45b7b9fa7c272da2e1d7  11.025  \n",
       "14  9b98b8c7a33c4b65b9aebfe6a799e6d9  11.025  \n",
       "15  0b1e1539f2cc45b7b9fa7c272da2e1d7     NaN  \n",
       "16  9b98b8c7a33c4b65b9aebfe6a799e6d9     NaN  \n",
       "17                                 0  23.030  \n",
       "18                                 0   8.960  "
      ]
     },
     "execution_count": 26,
     "metadata": {},
     "output_type": "execute_result"
    },
    {
     "name": "stdout",
     "output_type": "stream",
     "text": [
      "time: 31 ms (started: 2021-10-25 19:58:12 +08:00)\n"
     ]
    }
   ],
   "source": [
    "parse_transaction2(ex)"
   ]
  },
  {
   "cell_type": "markdown",
   "id": "f4712123-e2a0-45f5-8ffd-200539cfad43",
   "metadata": {},
   "source": [
    "parse all the transcript"
   ]
  },
  {
   "cell_type": "code",
   "execution_count": 27,
   "id": "3bac8e5e-27c0-40ed-a42a-efc46744f05b",
   "metadata": {},
   "outputs": [
    {
     "name": "stdout",
     "output_type": "stream",
     "text": [
      "time: 12.2 s (started: 2021-10-25 19:58:12 +08:00)\n"
     ]
    }
   ],
   "source": [
    "transcript_parsed = parse_transaction2(transcript)"
   ]
  },
  {
   "cell_type": "code",
   "execution_count": 28,
   "id": "0f8a9d67-37df-498d-9567-98e82cf10d8c",
   "metadata": {},
   "outputs": [
    {
     "data": {
      "text/plain": [
       "(309496, 6)"
      ]
     },
     "execution_count": 28,
     "metadata": {},
     "output_type": "execute_result"
    },
    {
     "name": "stdout",
     "output_type": "stream",
     "text": [
      "time: 0 ns (started: 2021-10-25 19:58:25 +08:00)\n"
     ]
    }
   ],
   "source": [
    "transcript_parsed.shape"
   ]
  },
  {
   "cell_type": "code",
   "execution_count": 29,
   "id": "1b41c3dc-812b-4e25-a230-350ece2e0518",
   "metadata": {},
   "outputs": [
    {
     "data": {
      "text/html": [
       "<div>\n",
       "<style scoped>\n",
       "    .dataframe tbody tr th:only-of-type {\n",
       "        vertical-align: middle;\n",
       "    }\n",
       "\n",
       "    .dataframe tbody tr th {\n",
       "        vertical-align: top;\n",
       "    }\n",
       "\n",
       "    .dataframe thead th {\n",
       "        text-align: right;\n",
       "    }\n",
       "</style>\n",
       "<table border=\"1\" class=\"dataframe\">\n",
       "  <thead>\n",
       "    <tr style=\"text-align: right;\">\n",
       "      <th></th>\n",
       "      <th>person</th>\n",
       "      <th>event</th>\n",
       "      <th>time</th>\n",
       "      <th>reward</th>\n",
       "      <th>offer_id</th>\n",
       "      <th>amount</th>\n",
       "    </tr>\n",
       "  </thead>\n",
       "  <tbody>\n",
       "    <tr>\n",
       "      <th>0</th>\n",
       "      <td>78afa995795e4d85b5d9ceeca43f5fef</td>\n",
       "      <td>offer received</td>\n",
       "      <td>0</td>\n",
       "      <td>0.0</td>\n",
       "      <td>9b98b8c7a33c4b65b9aebfe6a799e6d9</td>\n",
       "      <td>NaN</td>\n",
       "    </tr>\n",
       "    <tr>\n",
       "      <th>1</th>\n",
       "      <td>a03223e636434f42ac4c3df47e8bac43</td>\n",
       "      <td>offer received</td>\n",
       "      <td>0</td>\n",
       "      <td>0.0</td>\n",
       "      <td>0b1e1539f2cc45b7b9fa7c272da2e1d7</td>\n",
       "      <td>NaN</td>\n",
       "    </tr>\n",
       "    <tr>\n",
       "      <th>2</th>\n",
       "      <td>e2127556f4f64592b11af22de27a7932</td>\n",
       "      <td>offer received</td>\n",
       "      <td>0</td>\n",
       "      <td>0.0</td>\n",
       "      <td>2906b810c7d4411798c6938adc9daaa5</td>\n",
       "      <td>NaN</td>\n",
       "    </tr>\n",
       "    <tr>\n",
       "      <th>3</th>\n",
       "      <td>8ec6ce2a7e7949b1bf142def7d0e0586</td>\n",
       "      <td>offer received</td>\n",
       "      <td>0</td>\n",
       "      <td>0.0</td>\n",
       "      <td>fafdcd668e3743c1bb461111dcafc2a4</td>\n",
       "      <td>NaN</td>\n",
       "    </tr>\n",
       "    <tr>\n",
       "      <th>4</th>\n",
       "      <td>68617ca6246f4fbc85e91a2a49552598</td>\n",
       "      <td>offer received</td>\n",
       "      <td>0</td>\n",
       "      <td>0.0</td>\n",
       "      <td>4d5c57ea9a6940dd891ad53e9dbe8da0</td>\n",
       "      <td>NaN</td>\n",
       "    </tr>\n",
       "  </tbody>\n",
       "</table>\n",
       "</div>"
      ],
      "text/plain": [
       "                             person           event  time  reward  \\\n",
       "0  78afa995795e4d85b5d9ceeca43f5fef  offer received     0     0.0   \n",
       "1  a03223e636434f42ac4c3df47e8bac43  offer received     0     0.0   \n",
       "2  e2127556f4f64592b11af22de27a7932  offer received     0     0.0   \n",
       "3  8ec6ce2a7e7949b1bf142def7d0e0586  offer received     0     0.0   \n",
       "4  68617ca6246f4fbc85e91a2a49552598  offer received     0     0.0   \n",
       "\n",
       "                           offer_id  amount  \n",
       "0  9b98b8c7a33c4b65b9aebfe6a799e6d9     NaN  \n",
       "1  0b1e1539f2cc45b7b9fa7c272da2e1d7     NaN  \n",
       "2  2906b810c7d4411798c6938adc9daaa5     NaN  \n",
       "3  fafdcd668e3743c1bb461111dcafc2a4     NaN  \n",
       "4  4d5c57ea9a6940dd891ad53e9dbe8da0     NaN  "
      ]
     },
     "execution_count": 29,
     "metadata": {},
     "output_type": "execute_result"
    },
    {
     "name": "stdout",
     "output_type": "stream",
     "text": [
      "time: 47 ms (started: 2021-10-25 19:58:25 +08:00)\n"
     ]
    }
   ],
   "source": [
    "transcript_parsed.head()"
   ]
  },
  {
   "cell_type": "markdown",
   "id": "143a0213-9b31-4f6f-99f8-0efd74d5710a",
   "metadata": {},
   "source": [
    "## event"
   ]
  },
  {
   "cell_type": "markdown",
   "id": "0fcfb942-ef73-45a4-9433-5cc0a6a3c72d",
   "metadata": {},
   "source": [
    "Mark event into numbers"
   ]
  },
  {
   "cell_type": "code",
   "execution_count": 30,
   "id": "93698eb2-3c32-4a67-b787-a48b53f80466",
   "metadata": {
    "tags": []
   },
   "outputs": [
    {
     "name": "stdout",
     "output_type": "stream",
     "text": [
      "time: 0 ns (started: 2021-10-25 19:58:25 +08:00)\n"
     ]
    }
   ],
   "source": [
    "df = transcript_parsed"
   ]
  },
  {
   "cell_type": "code",
   "execution_count": 31,
   "id": "6d04294f-c4a8-41f8-aae9-32f118df290e",
   "metadata": {
    "tags": []
   },
   "outputs": [
    {
     "data": {
      "text/html": [
       "<div>\n",
       "<style scoped>\n",
       "    .dataframe tbody tr th:only-of-type {\n",
       "        vertical-align: middle;\n",
       "    }\n",
       "\n",
       "    .dataframe tbody tr th {\n",
       "        vertical-align: top;\n",
       "    }\n",
       "\n",
       "    .dataframe thead th {\n",
       "        text-align: right;\n",
       "    }\n",
       "</style>\n",
       "<table border=\"1\" class=\"dataframe\">\n",
       "  <thead>\n",
       "    <tr style=\"text-align: right;\">\n",
       "      <th></th>\n",
       "      <th>person</th>\n",
       "      <th>event</th>\n",
       "      <th>time</th>\n",
       "      <th>reward</th>\n",
       "      <th>offer_id</th>\n",
       "      <th>amount</th>\n",
       "    </tr>\n",
       "  </thead>\n",
       "  <tbody>\n",
       "    <tr>\n",
       "      <th>309491</th>\n",
       "      <td>b3a1272bc9904337b331bf348c3e8c17</td>\n",
       "      <td>transaction</td>\n",
       "      <td>714</td>\n",
       "      <td>0.0</td>\n",
       "      <td>0</td>\n",
       "      <td>1.59</td>\n",
       "    </tr>\n",
       "    <tr>\n",
       "      <th>309492</th>\n",
       "      <td>68213b08d99a4ae1b0dcb72aebd9aa35</td>\n",
       "      <td>transaction</td>\n",
       "      <td>714</td>\n",
       "      <td>0.0</td>\n",
       "      <td>0</td>\n",
       "      <td>9.53</td>\n",
       "    </tr>\n",
       "    <tr>\n",
       "      <th>309493</th>\n",
       "      <td>a00058cf10334a308c68e7631c529907</td>\n",
       "      <td>transaction</td>\n",
       "      <td>714</td>\n",
       "      <td>0.0</td>\n",
       "      <td>0</td>\n",
       "      <td>3.61</td>\n",
       "    </tr>\n",
       "    <tr>\n",
       "      <th>309494</th>\n",
       "      <td>76ddbd6576844afe811f1a3c0fbb5bec</td>\n",
       "      <td>transaction</td>\n",
       "      <td>714</td>\n",
       "      <td>0.0</td>\n",
       "      <td>0</td>\n",
       "      <td>3.53</td>\n",
       "    </tr>\n",
       "    <tr>\n",
       "      <th>309495</th>\n",
       "      <td>c02b10e8752c4d8e9b73f918558531f7</td>\n",
       "      <td>transaction</td>\n",
       "      <td>714</td>\n",
       "      <td>0.0</td>\n",
       "      <td>0</td>\n",
       "      <td>4.05</td>\n",
       "    </tr>\n",
       "  </tbody>\n",
       "</table>\n",
       "</div>"
      ],
      "text/plain": [
       "                                  person        event  time  reward offer_id  \\\n",
       "309491  b3a1272bc9904337b331bf348c3e8c17  transaction   714     0.0        0   \n",
       "309492  68213b08d99a4ae1b0dcb72aebd9aa35  transaction   714     0.0        0   \n",
       "309493  a00058cf10334a308c68e7631c529907  transaction   714     0.0        0   \n",
       "309494  76ddbd6576844afe811f1a3c0fbb5bec  transaction   714     0.0        0   \n",
       "309495  c02b10e8752c4d8e9b73f918558531f7  transaction   714     0.0        0   \n",
       "\n",
       "        amount  \n",
       "309491    1.59  \n",
       "309492    9.53  \n",
       "309493    3.61  \n",
       "309494    3.53  \n",
       "309495    4.05  "
      ]
     },
     "execution_count": 31,
     "metadata": {},
     "output_type": "execute_result"
    },
    {
     "name": "stdout",
     "output_type": "stream",
     "text": [
      "time: 16 ms (started: 2021-10-25 19:58:25 +08:00)\n"
     ]
    }
   ],
   "source": [
    "df.tail()"
   ]
  },
  {
   "cell_type": "code",
   "execution_count": 32,
   "id": "f3317010-78de-4371-ba19-9e866a51f4a4",
   "metadata": {},
   "outputs": [
    {
     "data": {
      "text/plain": [
       "transaction        141915\n",
       "offer received      76277\n",
       "offer viewed        57725\n",
       "offer completed     33579\n",
       "Name: event, dtype: int64"
      ]
     },
     "execution_count": 32,
     "metadata": {},
     "output_type": "execute_result"
    },
    {
     "name": "stdout",
     "output_type": "stream",
     "text": [
      "time: 93 ms (started: 2021-10-25 19:58:25 +08:00)\n"
     ]
    }
   ],
   "source": [
    "df.event.value_counts()"
   ]
  },
  {
   "cell_type": "code",
   "execution_count": 33,
   "id": "dd6905a5-34e7-40c1-996a-b5730af0f33d",
   "metadata": {},
   "outputs": [
    {
     "name": "stdout",
     "output_type": "stream",
     "text": [
      "time: 0 ns (started: 2021-10-25 19:58:25 +08:00)\n"
     ]
    }
   ],
   "source": [
    "def parse_event(x:str)->int:\n",
    "    \"\"\"mark promotion record from 1 to 4\n",
    "    \n",
    "    Args:\n",
    "        x: an event\n",
    "    \n",
    "    Returns:\n",
    "        y: the event marked as number.\n",
    "    \"\"\"\n",
    "    if x=='offer received':\n",
    "        y=1\n",
    "    elif x=='offer viewed':\n",
    "        y=2\n",
    "    elif  x=='transaction':\n",
    "        y=3\n",
    "    else:\n",
    "        y=4\n",
    "    return y\n"
   ]
  },
  {
   "cell_type": "code",
   "execution_count": 34,
   "id": "ab900017-68db-4179-b5d8-8c4cd2e17465",
   "metadata": {},
   "outputs": [
    {
     "name": "stdout",
     "output_type": "stream",
     "text": [
      "time: 297 ms (started: 2021-10-25 19:58:25 +08:00)\n"
     ]
    }
   ],
   "source": [
    "df.loc[:,'event_id']=df['event'].map(parse_event)"
   ]
  },
  {
   "cell_type": "code",
   "execution_count": 35,
   "id": "855ae713-e9ec-4cd0-8a93-22a7b027fae6",
   "metadata": {},
   "outputs": [
    {
     "data": {
      "text/plain": [
       "3    141915\n",
       "1     76277\n",
       "2     57725\n",
       "4     33579\n",
       "Name: event_id, dtype: int64"
      ]
     },
     "execution_count": 35,
     "metadata": {},
     "output_type": "execute_result"
    },
    {
     "name": "stdout",
     "output_type": "stream",
     "text": [
      "time: 16 ms (started: 2021-10-25 19:58:25 +08:00)\n"
     ]
    }
   ],
   "source": [
    "df.event_id.value_counts()"
   ]
  },
  {
   "cell_type": "code",
   "execution_count": 36,
   "id": "aaa652e6-c072-4b4d-83cd-9912b5fd5b21",
   "metadata": {},
   "outputs": [
    {
     "name": "stdout",
     "output_type": "stream",
     "text": [
      "time: 516 ms (started: 2021-10-25 19:58:25 +08:00)\n"
     ]
    }
   ],
   "source": [
    "df = df.sort_values(['person','offer_id','time','event_id'])"
   ]
  },
  {
   "cell_type": "markdown",
   "id": "e4d83378-b352-4698-a335-07fec1e79b50",
   "metadata": {},
   "source": [
    "## consume behavior"
   ]
  },
  {
   "cell_type": "markdown",
   "id": "633c37d0-f983-49e8-8f4f-4618cd767895",
   "metadata": {},
   "source": [
    "This section tries to parse promotion record into consume behavior type 1 to 4. And type 5 suited for non-promotion transaction.\n",
    "\n",
    "1. **success promotion**: start -> `offer receive`(1) -> `offer view`(2) ->`transaction`(3) -> `offer completed`(4) -> end.\n",
    "2. **direct buy**: start -> `offer receive`(1) -> `transaction`(3) -> `offer completed`(4) -> `offer view`(2) -> end .  offer view(2) can exist or not exist.\n",
    "3. **only view**: start -> `offer receive`(1) -> `offer view`(2) -> end. \n",
    "4. **only receive**: start -> `offer receive`(1) -> end.\n",
    "5. **other buy**: start -> `transaction`(3)  -> end."
   ]
  },
  {
   "cell_type": "code",
   "execution_count": 37,
   "id": "fea5e833-16c5-4872-8206-31084a469bd5",
   "metadata": {},
   "outputs": [
    {
     "name": "stdout",
     "output_type": "stream",
     "text": [
      "time: 0 ns (started: 2021-10-25 19:58:26 +08:00)\n"
     ]
    }
   ],
   "source": [
    "def sub_promo(matched:str)->str:\n",
    "    \"\"\"replace 1234 into abcd  to mark success promotion behavior\n",
    "    like 11234 to a1bcd , 1234 to abcd or 1122334 to a1b2c3d\n",
    "        a:offer receive\n",
    "        b:offer view\n",
    "        c:transaction\n",
    "        d:offer completed\n",
    "    \n",
    "    Args:\n",
    "        matched: a string matched\n",
    "    \n",
    "    Returns:\n",
    "        value_new: replaced string\n",
    "    \"\"\"\n",
    "    value = matched.group(0)\n",
    "    rvalue=value[::-1]\n",
    "    rvalue = re.sub('^4','d',rvalue,1)\n",
    "    rvalue = re.sub('3(?=.*?2)','c',rvalue,1)\n",
    "    rvalue = re.sub('2(?=.*?1)','b',rvalue,1)\n",
    "\n",
    "    value_new = rvalue[::-1]\n",
    "    value_new = re.sub('1(?=[^2]*?b)','a',value_new,1)\n",
    "\n",
    "    return value_new\n",
    "\n",
    "def re_promo(s:str)->str:\n",
    "    \"\"\"find string  like '1234' and `re.sub` part by part.\n",
    "    \n",
    "    Args:\n",
    "        s: string need to re\n",
    "    \n",
    "    Returns:\n",
    "        new_string: replaced new string\n",
    "    \"\"\"\n",
    "    last_string = \"\"\n",
    "    new_string = s\n",
    "    # if find target behavior then sub. And contine for next round find-and-sub.\n",
    "    while new_string!=last_string:\n",
    "        last_string = new_string\n",
    "        new_string = re.sub('(1)[^34]*?(2).*?(3).*?(4)', sub_promo, last_string)\n",
    "    return new_string\n",
    "\n",
    "def trans_promo(s:pd.Series)->pd.Series:\n",
    "    \"\"\"find promotion success behavoir with `re` module\n",
    "    \n",
    "    Args:\n",
    "        se: pd.Series needed to find\n",
    "    \n",
    "    Returns:\n",
    "        t3: pd.Series finished replace if the series contains promotion success behavior.\n",
    "    \"\"\"\n",
    "    t = s.map(lambda x:str(x))\n",
    "    t2 =\"\".join(t.to_list())\n",
    "    t2 = re_promo(t2)\n",
    "    t3 = [i for i in t2]\n",
    "    t3 = np.array(t3)\n",
    "    return t3"
   ]
  },
  {
   "cell_type": "code",
   "execution_count": 38,
   "id": "14927e9f-c967-40a4-81c9-44259e9d5eb3",
   "metadata": {},
   "outputs": [
    {
     "name": "stdout",
     "output_type": "stream",
     "text": [
      "time: 16 ms (started: 2021-10-25 19:58:26 +08:00)\n"
     ]
    }
   ],
   "source": [
    "def sub_buy(matched:str)->str:\n",
    "    \"\"\"replace 1342 into efgh or replace 134 into efg to mark direct_buy behavior\n",
    "        e:offer receive\n",
    "        f:transaction\n",
    "        g:offer completed\n",
    "        h:offer view\n",
    "    \n",
    "    Args:\n",
    "        matched: a string matched\n",
    "    \n",
    "    Returns:\n",
    "        value_new: replaced string\n",
    "    \"\"\"\n",
    "    value = matched.group(0)\n",
    "    value_new = value.replace('1','e',1)\\\n",
    "                    .replace('3','f',1)\\\n",
    "                    .replace('4','g',1)\\\n",
    "                    .replace('2','h',1)\n",
    "\n",
    "    return value_new\n",
    "\n",
    "\n",
    "def re_buy(s:str)->str:\n",
    "    \"\"\"find string  like '1342' or '134' and `re.sub` part by part.\n",
    "    \n",
    "    Args:\n",
    "        s: string need to re\n",
    "    \n",
    "    Returns:\n",
    "        new_string: replaced new string\n",
    "    \"\"\"\n",
    "    last_string = \"\"\n",
    "    new_string = s\n",
    "    # if find target behavior then sub. And contine for next round find-and-sub.\n",
    "    while new_string!=last_string:\n",
    "        last_string = new_string\n",
    "        new_string = re.sub('(1)[^2]*?(3).*?(4).*?(2){0,1}', sub_buy, last_string)\n",
    "    return new_string\n",
    "\n",
    "\n",
    "def trans_buy(se:pd.Series)->pd.Series:\n",
    "    \"\"\"find direct buy behavoir with `re` module after run `trans_promo`\n",
    "    \n",
    "    Args:\n",
    "        se: pd.Series needed to find\n",
    "    \n",
    "    Returns:\n",
    "        t3: pd.Series finished replace if the series contains direct buy behavior.\n",
    "    \"\"\"\n",
    "    t = se.map(lambda x:str(x))\n",
    "    t2 =\"\".join(t.to_list())\n",
    "    t2 = re_buy(t2)\n",
    "    t3 = [i for i in t2]\n",
    "    t3 = np.array(t3)\n",
    "    return t3"
   ]
  },
  {
   "cell_type": "code",
   "execution_count": 39,
   "id": "a5655185-a97c-48da-80cc-a24be74468ad",
   "metadata": {},
   "outputs": [
    {
     "name": "stdout",
     "output_type": "stream",
     "text": [
      "time: 0 ns (started: 2021-10-25 19:58:26 +08:00)\n"
     ]
    }
   ],
   "source": [
    "def sub_view(matched:str)->str:\n",
    "    \"\"\"replace 12 into xy  to mark only view behavior\n",
    "    like 12 to xy , 112 to x1y\n",
    "        x:offer receive\n",
    "        y:offer view    \n",
    "    Args:\n",
    "        matched: a string matched \n",
    "    \n",
    "    Returns:\n",
    "        value_new: replaced string\n",
    "    \"\"\"\n",
    "    value = matched.group(0)\n",
    "    value_new = re.sub('^1','x',value,1)\n",
    "    value_new = re.sub('2$','y',value_new,1)\n",
    "    return value_new\n",
    "\n",
    "\n",
    "def re_view(s:str)->str:\n",
    "    \"\"\"find string  like '12' and `re.sub` part by part.\n",
    "    \n",
    "    Args:\n",
    "        s: string need to re\n",
    "    \n",
    "    Returns:\n",
    "        new_string: replaced new string\n",
    "    \"\"\"\n",
    "    last_string = \"\"\n",
    "    new_string = s\n",
    "    # if find target behavior then sub. And contine for next round find-and-sub.\n",
    "    while new_string!=last_string:\n",
    "        last_string = new_string\n",
    "        new_string = re.sub('(1)[^34]*?(2)', sub_view, last_string)\n",
    "    return new_string\n",
    "\n",
    "\n",
    "def trans_view(se:pd.Series)->pd.Series:\n",
    "    \"\"\"find only view behavoir with `re` module after run `trans_promo` and `trans_buy`\n",
    "    \n",
    "    Args:\n",
    "        se: pd.Series needed to find\n",
    "    \n",
    "    Returns:\n",
    "        t3: pd.Series finished replace if the series contains only view behavior.\n",
    "    \"\"\"\n",
    "    t = se.map(lambda x:str(x))\n",
    "    t2 =\"\".join(t.to_list())\n",
    "    t2 = re_view(t2)\n",
    "    t3 = [i for i in t2]\n",
    "    t3 = np.array(t3)\n",
    "    return t3\n"
   ]
  },
  {
   "cell_type": "code",
   "execution_count": 40,
   "id": "0a1fedb8-118b-4f36-8640-95b20ab43377",
   "metadata": {},
   "outputs": [
    {
     "name": "stdout",
     "output_type": "stream",
     "text": [
      "time: 0 ns (started: 2021-10-25 19:58:26 +08:00)\n"
     ]
    }
   ],
   "source": [
    "def trans_receive(s:str)->str:\n",
    "    \"\"\"find only receive behavoir with `re` module after run `trans_promo`, `trans_buy` and `trans_view`\n",
    "    \n",
    "    Args:\n",
    "        se: pd.Series needed to find\n",
    "    \n",
    "    Returns:\n",
    "        t3: pd.Series finished replace if the series contains only receive behavior.\n",
    "    \"\"\"\n",
    "    t3 = s.map(lambda x:str(x).replace('1','z'))\n",
    "    return t3"
   ]
  },
  {
   "cell_type": "code",
   "execution_count": 41,
   "id": "1d840bd9-865b-4d11-b819-0be5115e1da5",
   "metadata": {},
   "outputs": [
    {
     "name": "stdout",
     "output_type": "stream",
     "text": [
      "time: 0 ns (started: 2021-10-25 19:58:26 +08:00)\n"
     ]
    }
   ],
   "source": [
    "def trans_behavior(ef:pd.DataFrame)->pd.DataFrame:\n",
    "    \"\"\"parse consumer behavior steps from transcript\"\"\"\n",
    "    ef['promo']=ef.groupby(['person','offer_id'])['event_id'].transform(trans_promo)\n",
    "    ef['buy']=ef.groupby(['person','offer_id'])['promo'].transform(trans_buy)\n",
    "    ef['view']=ef.groupby(['person','offer_id'])['buy'].transform(trans_view)\n",
    "    ef['receive']=ef.groupby(['person','offer_id'])['view'].transform(trans_receive)\n",
    "    ef['offer']=ef.groupby(['person','offer_id'])['event_id'].transform(trans_receive)\n",
    "    return ef"
   ]
  },
  {
   "cell_type": "code",
   "execution_count": 42,
   "id": "21e3a65a-689a-4c1f-9f10-e84c4e0a6523",
   "metadata": {},
   "outputs": [
    {
     "name": "stdout",
     "output_type": "stream",
     "text": [
      "time: 0 ns (started: 2021-10-25 19:58:26 +08:00)\n"
     ]
    }
   ],
   "source": [
    "def agg_behavior(ef:pd.DataFrame)->pd.DataFrame:\n",
    "    \"\"\"aggregate and merge all the consumer behavior\"\"\"\n",
    "    # aggregate consumer behavior by person and offer_id\n",
    "    ef_offer = ef[ef['offer']=='z'].groupby(['person','offer_id']).agg({'offer':['count']})\n",
    "    ef_receive = ef[ef['receive']=='z'].groupby(['person','offer_id']).agg({'receive':['count']})\n",
    "    ef_view = ef[ef['view']=='y'].groupby(['person','offer_id']).agg({'view':['count']})\n",
    "    ef_promo = ef[ef['promo']=='c'].groupby(['person','offer_id']).agg({'time':'last','promo':['count'],'amount':['sum']}).rename(columns={'time':'promo_time','amount':'promo_amount'})\n",
    "    ef_buy = ef[ef['buy']=='f'].groupby(['person','offer_id']).agg({'time':'last','buy':['count'],'amount':['sum']}).rename(columns={'time':'buy_time','amount':'buy_amount'})\n",
    "    ef_other = ef[ef['buy']=='3'].groupby(['person','offer_id']).agg({'buy':['count'],'amount':['sum']}).rename(columns={'buy':'other','amount':'other_amount'})\n",
    "    # merge all the consumer behavior\n",
    "    ef_behavior = ef_offer\\\n",
    "            .merge(ef_receive,left_index=True,right_index=True,how='left')\\\n",
    "            .merge(ef_view,left_index=True,right_index=True,how='left')\\\n",
    "            .merge(ef_promo,left_index=True,right_index=True,how='left')\\\n",
    "            .merge(ef_buy,left_index=True,right_index=True,how='left')\\\n",
    "            .merge(ef_other,left_index=True,right_index=True,how='outer')\n",
    "    ef_behavior.columns = ['_'.join(\n",
    "            col) for col in ef_behavior.columns]\n",
    "    ef_behavior = ef_behavior.reset_index()\n",
    "    return ef_behavior"
   ]
  },
  {
   "cell_type": "code",
   "execution_count": 43,
   "id": "e17aa360-c527-481b-b97e-5e5f00efe6f9",
   "metadata": {},
   "outputs": [
    {
     "name": "stdout",
     "output_type": "stream",
     "text": [
      "time: 4min 43s (started: 2021-10-25 19:58:26 +08:00)\n"
     ]
    }
   ],
   "source": [
    "df_behavior_trans = trans_behavior(df)\n",
    "df_behavior = agg_behavior(df_behavior_trans)"
   ]
  },
  {
   "cell_type": "code",
   "execution_count": 44,
   "id": "15d8d4e6-9f57-493e-af41-0b9b53760e13",
   "metadata": {},
   "outputs": [
    {
     "data": {
      "text/html": [
       "<div>\n",
       "<style scoped>\n",
       "    .dataframe tbody tr th:only-of-type {\n",
       "        vertical-align: middle;\n",
       "    }\n",
       "\n",
       "    .dataframe tbody tr th {\n",
       "        vertical-align: top;\n",
       "    }\n",
       "\n",
       "    .dataframe thead th {\n",
       "        text-align: right;\n",
       "    }\n",
       "</style>\n",
       "<table border=\"1\" class=\"dataframe\">\n",
       "  <thead>\n",
       "    <tr style=\"text-align: right;\">\n",
       "      <th></th>\n",
       "      <th>person</th>\n",
       "      <th>offer_id</th>\n",
       "      <th>offer_count</th>\n",
       "      <th>receive_count</th>\n",
       "      <th>view_count</th>\n",
       "      <th>promo_time_last</th>\n",
       "      <th>promo_count</th>\n",
       "      <th>promo_amount_sum</th>\n",
       "      <th>buy_time_last</th>\n",
       "      <th>buy_count</th>\n",
       "      <th>buy_amount_sum</th>\n",
       "      <th>other_count</th>\n",
       "      <th>other_amount_sum</th>\n",
       "    </tr>\n",
       "  </thead>\n",
       "  <tbody>\n",
       "    <tr>\n",
       "      <th>79439</th>\n",
       "      <td>ffff82501cea40309d5fdd7edcca4a07</td>\n",
       "      <td>0</td>\n",
       "      <td>NaN</td>\n",
       "      <td>NaN</td>\n",
       "      <td>NaN</td>\n",
       "      <td>NaN</td>\n",
       "      <td>NaN</td>\n",
       "      <td>NaN</td>\n",
       "      <td>NaN</td>\n",
       "      <td>NaN</td>\n",
       "      <td>NaN</td>\n",
       "      <td>9.0</td>\n",
       "      <td>131.99</td>\n",
       "    </tr>\n",
       "    <tr>\n",
       "      <th>79440</th>\n",
       "      <td>ffff82501cea40309d5fdd7edcca4a07</td>\n",
       "      <td>0b1e1539f2cc45b7b9fa7c272da2e1d7</td>\n",
       "      <td>1.0</td>\n",
       "      <td>NaN</td>\n",
       "      <td>NaN</td>\n",
       "      <td>198.0</td>\n",
       "      <td>1.0</td>\n",
       "      <td>22.88</td>\n",
       "      <td>NaN</td>\n",
       "      <td>NaN</td>\n",
       "      <td>NaN</td>\n",
       "      <td>NaN</td>\n",
       "      <td>NaN</td>\n",
       "    </tr>\n",
       "    <tr>\n",
       "      <th>79441</th>\n",
       "      <td>ffff82501cea40309d5fdd7edcca4a07</td>\n",
       "      <td>2906b810c7d4411798c6938adc9daaa5</td>\n",
       "      <td>3.0</td>\n",
       "      <td>NaN</td>\n",
       "      <td>NaN</td>\n",
       "      <td>414.0</td>\n",
       "      <td>2.0</td>\n",
       "      <td>33.12</td>\n",
       "      <td>576.0</td>\n",
       "      <td>1.0</td>\n",
       "      <td>14.23</td>\n",
       "      <td>NaN</td>\n",
       "      <td>NaN</td>\n",
       "    </tr>\n",
       "    <tr>\n",
       "      <th>79442</th>\n",
       "      <td>ffff82501cea40309d5fdd7edcca4a07</td>\n",
       "      <td>9b98b8c7a33c4b65b9aebfe6a799e6d9</td>\n",
       "      <td>1.0</td>\n",
       "      <td>NaN</td>\n",
       "      <td>NaN</td>\n",
       "      <td>NaN</td>\n",
       "      <td>NaN</td>\n",
       "      <td>NaN</td>\n",
       "      <td>504.0</td>\n",
       "      <td>1.0</td>\n",
       "      <td>7.79</td>\n",
       "      <td>NaN</td>\n",
       "      <td>NaN</td>\n",
       "    </tr>\n",
       "    <tr>\n",
       "      <th>79443</th>\n",
       "      <td>ffff82501cea40309d5fdd7edcca4a07</td>\n",
       "      <td>fafdcd668e3743c1bb461111dcafc2a4</td>\n",
       "      <td>1.0</td>\n",
       "      <td>NaN</td>\n",
       "      <td>NaN</td>\n",
       "      <td>60.0</td>\n",
       "      <td>1.0</td>\n",
       "      <td>16.06</td>\n",
       "      <td>NaN</td>\n",
       "      <td>NaN</td>\n",
       "      <td>NaN</td>\n",
       "      <td>NaN</td>\n",
       "      <td>NaN</td>\n",
       "    </tr>\n",
       "  </tbody>\n",
       "</table>\n",
       "</div>"
      ],
      "text/plain": [
       "                                 person                          offer_id  \\\n",
       "79439  ffff82501cea40309d5fdd7edcca4a07                                 0   \n",
       "79440  ffff82501cea40309d5fdd7edcca4a07  0b1e1539f2cc45b7b9fa7c272da2e1d7   \n",
       "79441  ffff82501cea40309d5fdd7edcca4a07  2906b810c7d4411798c6938adc9daaa5   \n",
       "79442  ffff82501cea40309d5fdd7edcca4a07  9b98b8c7a33c4b65b9aebfe6a799e6d9   \n",
       "79443  ffff82501cea40309d5fdd7edcca4a07  fafdcd668e3743c1bb461111dcafc2a4   \n",
       "\n",
       "       offer_count  receive_count  view_count  promo_time_last  promo_count  \\\n",
       "79439          NaN            NaN         NaN              NaN          NaN   \n",
       "79440          1.0            NaN         NaN            198.0          1.0   \n",
       "79441          3.0            NaN         NaN            414.0          2.0   \n",
       "79442          1.0            NaN         NaN              NaN          NaN   \n",
       "79443          1.0            NaN         NaN             60.0          1.0   \n",
       "\n",
       "       promo_amount_sum  buy_time_last  buy_count  buy_amount_sum  \\\n",
       "79439               NaN            NaN        NaN             NaN   \n",
       "79440             22.88            NaN        NaN             NaN   \n",
       "79441             33.12          576.0        1.0           14.23   \n",
       "79442               NaN          504.0        1.0            7.79   \n",
       "79443             16.06            NaN        NaN             NaN   \n",
       "\n",
       "       other_count  other_amount_sum  \n",
       "79439          9.0            131.99  \n",
       "79440          NaN               NaN  \n",
       "79441          NaN               NaN  \n",
       "79442          NaN               NaN  \n",
       "79443          NaN               NaN  "
      ]
     },
     "execution_count": 44,
     "metadata": {},
     "output_type": "execute_result"
    },
    {
     "name": "stdout",
     "output_type": "stream",
     "text": [
      "time: 31 ms (started: 2021-10-25 20:03:10 +08:00)\n"
     ]
    }
   ],
   "source": [
    "df_behavior.tail()"
   ]
  },
  {
   "cell_type": "code",
   "execution_count": 45,
   "id": "3d092529-2fca-4ea5-bf9e-1360fd37ae6e",
   "metadata": {},
   "outputs": [
    {
     "name": "stdout",
     "output_type": "stream",
     "text": [
      "time: 1.27 s (started: 2021-10-25 20:03:10 +08:00)\n"
     ]
    }
   ],
   "source": [
    "df_behavior.to_csv('df_behavior.csv')"
   ]
  },
  {
   "cell_type": "markdown",
   "id": "746e02ee-2f9d-4bc6-93ba-8018241a6e96",
   "metadata": {},
   "source": [
    "# Clean profile"
   ]
  },
  {
   "cell_type": "code",
   "execution_count": 46,
   "id": "a542f104-ffc9-435f-9abb-392581133cff",
   "metadata": {},
   "outputs": [
    {
     "data": {
      "text/html": [
       "<div>\n",
       "<style scoped>\n",
       "    .dataframe tbody tr th:only-of-type {\n",
       "        vertical-align: middle;\n",
       "    }\n",
       "\n",
       "    .dataframe tbody tr th {\n",
       "        vertical-align: top;\n",
       "    }\n",
       "\n",
       "    .dataframe thead th {\n",
       "        text-align: right;\n",
       "    }\n",
       "</style>\n",
       "<table border=\"1\" class=\"dataframe\">\n",
       "  <thead>\n",
       "    <tr style=\"text-align: right;\">\n",
       "      <th></th>\n",
       "      <th>gender</th>\n",
       "      <th>age</th>\n",
       "      <th>id</th>\n",
       "      <th>became_member_on</th>\n",
       "      <th>income</th>\n",
       "    </tr>\n",
       "  </thead>\n",
       "  <tbody>\n",
       "    <tr>\n",
       "      <th>0</th>\n",
       "      <td>None</td>\n",
       "      <td>118</td>\n",
       "      <td>68be06ca386d4c31939f3a4f0e3dd783</td>\n",
       "      <td>20170212</td>\n",
       "      <td>NaN</td>\n",
       "    </tr>\n",
       "    <tr>\n",
       "      <th>1</th>\n",
       "      <td>F</td>\n",
       "      <td>55</td>\n",
       "      <td>0610b486422d4921ae7d2bf64640c50b</td>\n",
       "      <td>20170715</td>\n",
       "      <td>112000.0</td>\n",
       "    </tr>\n",
       "    <tr>\n",
       "      <th>2</th>\n",
       "      <td>None</td>\n",
       "      <td>118</td>\n",
       "      <td>38fe809add3b4fcf9315a9694bb96ff5</td>\n",
       "      <td>20180712</td>\n",
       "      <td>NaN</td>\n",
       "    </tr>\n",
       "    <tr>\n",
       "      <th>3</th>\n",
       "      <td>F</td>\n",
       "      <td>75</td>\n",
       "      <td>78afa995795e4d85b5d9ceeca43f5fef</td>\n",
       "      <td>20170509</td>\n",
       "      <td>100000.0</td>\n",
       "    </tr>\n",
       "    <tr>\n",
       "      <th>4</th>\n",
       "      <td>None</td>\n",
       "      <td>118</td>\n",
       "      <td>a03223e636434f42ac4c3df47e8bac43</td>\n",
       "      <td>20170804</td>\n",
       "      <td>NaN</td>\n",
       "    </tr>\n",
       "  </tbody>\n",
       "</table>\n",
       "</div>"
      ],
      "text/plain": [
       "  gender  age                                id  became_member_on    income\n",
       "0   None  118  68be06ca386d4c31939f3a4f0e3dd783          20170212       NaN\n",
       "1      F   55  0610b486422d4921ae7d2bf64640c50b          20170715  112000.0\n",
       "2   None  118  38fe809add3b4fcf9315a9694bb96ff5          20180712       NaN\n",
       "3      F   75  78afa995795e4d85b5d9ceeca43f5fef          20170509  100000.0\n",
       "4   None  118  a03223e636434f42ac4c3df47e8bac43          20170804       NaN"
      ]
     },
     "execution_count": 46,
     "metadata": {},
     "output_type": "execute_result"
    },
    {
     "name": "stdout",
     "output_type": "stream",
     "text": [
      "time: 31 ms (started: 2021-10-25 20:03:11 +08:00)\n"
     ]
    }
   ],
   "source": [
    "profile.head()"
   ]
  },
  {
   "cell_type": "code",
   "execution_count": 47,
   "id": "1b8a9d45-55b7-4409-ae90-a6fee5027f88",
   "metadata": {},
   "outputs": [
    {
     "data": {
      "text/html": [
       "<div>\n",
       "<style scoped>\n",
       "    .dataframe tbody tr th:only-of-type {\n",
       "        vertical-align: middle;\n",
       "    }\n",
       "\n",
       "    .dataframe tbody tr th {\n",
       "        vertical-align: top;\n",
       "    }\n",
       "\n",
       "    .dataframe thead th {\n",
       "        text-align: right;\n",
       "    }\n",
       "</style>\n",
       "<table border=\"1\" class=\"dataframe\">\n",
       "  <thead>\n",
       "    <tr style=\"text-align: right;\">\n",
       "      <th></th>\n",
       "      <th>gender</th>\n",
       "      <th>income</th>\n",
       "      <th>age</th>\n",
       "      <th>became_member_on</th>\n",
       "      <th>id</th>\n",
       "    </tr>\n",
       "  </thead>\n",
       "  <tbody>\n",
       "    <tr>\n",
       "      <th>null_count</th>\n",
       "      <td>2175</td>\n",
       "      <td>2175</td>\n",
       "      <td>0</td>\n",
       "      <td>0</td>\n",
       "      <td>0</td>\n",
       "    </tr>\n",
       "    <tr>\n",
       "      <th>null_ratio</th>\n",
       "      <td>0.127941</td>\n",
       "      <td>0.127941</td>\n",
       "      <td>0.0</td>\n",
       "      <td>0.0</td>\n",
       "      <td>0.0</td>\n",
       "    </tr>\n",
       "    <tr>\n",
       "      <th>dtypes</th>\n",
       "      <td>object</td>\n",
       "      <td>float64</td>\n",
       "      <td>int64</td>\n",
       "      <td>int64</td>\n",
       "      <td>object</td>\n",
       "    </tr>\n",
       "    <tr>\n",
       "      <th>value_count</th>\n",
       "      <td>14825</td>\n",
       "      <td>14825</td>\n",
       "      <td>17000</td>\n",
       "      <td>17000</td>\n",
       "      <td>17000</td>\n",
       "    </tr>\n",
       "    <tr>\n",
       "      <th>uique_counts</th>\n",
       "      <td>3</td>\n",
       "      <td>91</td>\n",
       "      <td>85</td>\n",
       "      <td>1716</td>\n",
       "      <td>17000</td>\n",
       "    </tr>\n",
       "    <tr>\n",
       "      <th>value_min</th>\n",
       "      <td>NaN</td>\n",
       "      <td>30000.0</td>\n",
       "      <td>18</td>\n",
       "      <td>20130729</td>\n",
       "      <td>0009655768c64bdeb2e877511632db8f</td>\n",
       "    </tr>\n",
       "    <tr>\n",
       "      <th>value_max</th>\n",
       "      <td>NaN</td>\n",
       "      <td>120000.0</td>\n",
       "      <td>118</td>\n",
       "      <td>20180726</td>\n",
       "      <td>ffff82501cea40309d5fdd7edcca4a07</td>\n",
       "    </tr>\n",
       "    <tr>\n",
       "      <th>value_median</th>\n",
       "      <td>NaN</td>\n",
       "      <td>64000.0</td>\n",
       "      <td>58.0</td>\n",
       "      <td>20170802.0</td>\n",
       "      <td>NaN</td>\n",
       "    </tr>\n",
       "  </tbody>\n",
       "</table>\n",
       "</div>"
      ],
      "text/plain": [
       "                gender    income    age became_member_on  \\\n",
       "null_count        2175      2175      0                0   \n",
       "null_ratio    0.127941  0.127941    0.0              0.0   \n",
       "dtypes          object   float64  int64            int64   \n",
       "value_count      14825     14825  17000            17000   \n",
       "uique_counts         3        91     85             1716   \n",
       "value_min          NaN   30000.0     18         20130729   \n",
       "value_max          NaN  120000.0    118         20180726   \n",
       "value_median       NaN   64000.0   58.0       20170802.0   \n",
       "\n",
       "                                            id  \n",
       "null_count                                   0  \n",
       "null_ratio                                 0.0  \n",
       "dtypes                                  object  \n",
       "value_count                              17000  \n",
       "uique_counts                             17000  \n",
       "value_min     0009655768c64bdeb2e877511632db8f  \n",
       "value_max     ffff82501cea40309d5fdd7edcca4a07  \n",
       "value_median                               NaN  "
      ]
     },
     "execution_count": 47,
     "metadata": {},
     "output_type": "execute_result"
    },
    {
     "name": "stdout",
     "output_type": "stream",
     "text": [
      "time: 78 ms (started: 2021-10-25 20:03:11 +08:00)\n"
     ]
    }
   ],
   "source": [
    "show_desc(profile)"
   ]
  },
  {
   "cell_type": "code",
   "execution_count": 48,
   "id": "217cb468-a533-406c-b760-919583337d56",
   "metadata": {},
   "outputs": [
    {
     "data": {
      "text/plain": [
       "(17000, 5)"
      ]
     },
     "execution_count": 48,
     "metadata": {},
     "output_type": "execute_result"
    },
    {
     "name": "stdout",
     "output_type": "stream",
     "text": [
      "time: 0 ns (started: 2021-10-25 20:03:11 +08:00)\n"
     ]
    }
   ],
   "source": [
    "profile.shape"
   ]
  },
  {
   "cell_type": "markdown",
   "id": "cf1ceb8b-d071-422d-b017-c1189fdf2021",
   "metadata": {},
   "source": [
    "`profile` has 17000 rows. And `gender` and `income` has a 2175 rows of nulls."
   ]
  },
  {
   "cell_type": "code",
   "execution_count": 49,
   "id": "99364c06-1ebc-40f6-a973-f899c22abe5c",
   "metadata": {},
   "outputs": [
    {
     "data": {
      "text/plain": [
       "array([[<AxesSubplot:title={'center':'age'}>,\n",
       "        <AxesSubplot:title={'center':'became_member_on'}>],\n",
       "       [<AxesSubplot:title={'center':'income'}>, <AxesSubplot:>]],\n",
       "      dtype=object)"
      ]
     },
     "execution_count": 49,
     "metadata": {},
     "output_type": "execute_result"
    },
    {
     "data": {
      "image/png": "[encoded data removed]",
      "text/plain": [
       "<Figure size 432x288 with 4 Axes>"
      ]
     },
     "metadata": {
      "needs_background": "light"
     },
     "output_type": "display_data"
    },
    {
     "name": "stdout",
     "output_type": "stream",
     "text": [
      "time: 2.16 s (started: 2021-10-25 20:03:11 +08:00)\n"
     ]
    }
   ],
   "source": [
    "profile.hist(bins=100)"
   ]
  },
  {
   "cell_type": "code",
   "execution_count": 50,
   "id": "710eaa56-a173-4f0c-a63f-9986f045811a",
   "metadata": {},
   "outputs": [
    {
     "data": {
      "text/plain": [
       "gender              2175\n",
       "age                    0\n",
       "id                     0\n",
       "became_member_on       0\n",
       "income              2175\n",
       "dtype: int64"
      ]
     },
     "execution_count": 50,
     "metadata": {},
     "output_type": "execute_result"
    },
    {
     "name": "stdout",
     "output_type": "stream",
     "text": [
      "time: 16 ms (started: 2021-10-25 20:03:13 +08:00)\n"
     ]
    }
   ],
   "source": [
    "profile[profile['age']>110].isna().sum()"
   ]
  },
  {
   "cell_type": "code",
   "execution_count": 51,
   "id": "4de89cfa-d975-459a-a23d-1e0fda7ddead",
   "metadata": {},
   "outputs": [
    {
     "data": {
      "text/plain": [
       "False    14825\n",
       "True      2175\n",
       "Name: age, dtype: int64"
      ]
     },
     "execution_count": 51,
     "metadata": {},
     "output_type": "execute_result"
    },
    {
     "name": "stdout",
     "output_type": "stream",
     "text": [
      "time: 16 ms (started: 2021-10-25 20:03:13 +08:00)\n"
     ]
    }
   ],
   "source": [
    "(profile['age']>110).value_counts()"
   ]
  },
  {
   "cell_type": "code",
   "execution_count": 52,
   "id": "3f0e5708-0785-47bd-bbea-be9f479681cf",
   "metadata": {},
   "outputs": [
    {
     "data": {
      "text/plain": [
       "array([[<AxesSubplot:title={'center':'age'}>,\n",
       "        <AxesSubplot:title={'center':'became_member_on'}>],\n",
       "       [<AxesSubplot:title={'center':'income'}>, <AxesSubplot:>]],\n",
       "      dtype=object)"
      ]
     },
     "execution_count": 52,
     "metadata": {},
     "output_type": "execute_result"
    },
    {
     "data": {
      "image/png": "[encoded data removed]",
      "text/plain": [
       "<Figure size 432x288 with 4 Axes>"
      ]
     },
     "metadata": {
      "needs_background": "light"
     },
     "output_type": "display_data"
    },
    {
     "name": "stdout",
     "output_type": "stream",
     "text": [
      "time: 1.53 s (started: 2021-10-25 20:03:13 +08:00)\n"
     ]
    }
   ],
   "source": [
    "## Histogram of profile without `age`==118\n",
    "profile[profile['age']!=118].hist(bins=100)"
   ]
  },
  {
   "cell_type": "markdown",
   "id": "d57f6988-d046-4b02-a4c2-ce5382416306",
   "metadata": {},
   "source": [
    "Histogram of profile shows that the `age` has some abnormal values greater than 110. And `gender` and `income` of those consumers are null.\n",
    "\n",
    "For we want to analyze the behavior of cusumers and the null ratio is not high (13%) and the null value is hard to impute based on `became_member_on`, we just mark those rows and impute.\n",
    "\n",
    "When analyzing the data involving consumer attributes, we can choose the normal group. "
   ]
  },
  {
   "cell_type": "markdown",
   "id": "7caaff93-8c65-463a-a555-10a0bec63ff0",
   "metadata": {},
   "source": [
    "**handle gender**: impute gender na columns as 'O'\n"
   ]
  },
  {
   "cell_type": "code",
   "execution_count": 53,
   "id": "967729b9-6b4c-47c1-86c2-957e8924cbbe",
   "metadata": {},
   "outputs": [
    {
     "data": {
      "text/html": [
       "<div>\n",
       "<style scoped>\n",
       "    .dataframe tbody tr th:only-of-type {\n",
       "        vertical-align: middle;\n",
       "    }\n",
       "\n",
       "    .dataframe tbody tr th {\n",
       "        vertical-align: top;\n",
       "    }\n",
       "\n",
       "    .dataframe thead th {\n",
       "        text-align: right;\n",
       "    }\n",
       "</style>\n",
       "<table border=\"1\" class=\"dataframe\">\n",
       "  <thead>\n",
       "    <tr style=\"text-align: right;\">\n",
       "      <th></th>\n",
       "      <th>gender_F</th>\n",
       "      <th>gender_M</th>\n",
       "      <th>gender_O</th>\n",
       "    </tr>\n",
       "  </thead>\n",
       "  <tbody>\n",
       "    <tr>\n",
       "      <th>0</th>\n",
       "      <td>0</td>\n",
       "      <td>0</td>\n",
       "      <td>1</td>\n",
       "    </tr>\n",
       "    <tr>\n",
       "      <th>1</th>\n",
       "      <td>1</td>\n",
       "      <td>0</td>\n",
       "      <td>0</td>\n",
       "    </tr>\n",
       "    <tr>\n",
       "      <th>2</th>\n",
       "      <td>0</td>\n",
       "      <td>0</td>\n",
       "      <td>1</td>\n",
       "    </tr>\n",
       "    <tr>\n",
       "      <th>3</th>\n",
       "      <td>1</td>\n",
       "      <td>0</td>\n",
       "      <td>0</td>\n",
       "    </tr>\n",
       "    <tr>\n",
       "      <th>4</th>\n",
       "      <td>0</td>\n",
       "      <td>0</td>\n",
       "      <td>1</td>\n",
       "    </tr>\n",
       "  </tbody>\n",
       "</table>\n",
       "</div>"
      ],
      "text/plain": [
       "   gender_F  gender_M  gender_O\n",
       "0         0         0         1\n",
       "1         1         0         0\n",
       "2         0         0         1\n",
       "3         1         0         0\n",
       "4         0         0         1"
      ]
     },
     "execution_count": 53,
     "metadata": {},
     "output_type": "execute_result"
    },
    {
     "name": "stdout",
     "output_type": "stream",
     "text": [
      "time: 15 ms (started: 2021-10-25 20:03:15 +08:00)\n"
     ]
    }
   ],
   "source": [
    "profile['gender'] = profile['gender'].fillna('O')\n",
    "# transfer `gender` into dummoy columns\n",
    "profile_gender_dummy = pd.get_dummies(profile['gender'],prefix='gender')\n",
    "profile_gender_dummy.head()"
   ]
  },
  {
   "cell_type": "markdown",
   "id": "83d81eec-2251-418a-8e37-7a8af0b48ae7",
   "metadata": {},
   "source": [
    "**mark income**: mark na income as 1 and the other as 0"
   ]
  },
  {
   "cell_type": "code",
   "execution_count": 54,
   "id": "02180c06-daf1-4dac-b1fc-8042104431a8",
   "metadata": {},
   "outputs": [
    {
     "name": "stdout",
     "output_type": "stream",
     "text": [
      "time: 31 ms (started: 2021-10-25 20:03:15 +08:00)\n"
     ]
    }
   ],
   "source": [
    "profile['is_income_na'] = profile['income'].isna()\n",
    "profile['is_income_na'] = profile['is_income_na'].map(lambda x: 1 if x else 0)\n"
   ]
  },
  {
   "cell_type": "markdown",
   "id": "5064b24a-c99c-4c8a-98ef-b5ae8ec00bff",
   "metadata": {},
   "source": [
    "**handle na values of `income` and `age`**:\n",
    "1. map age 118 as np.nan for it can be some error\n",
    "2. impute column `age` and `income` with median"
   ]
  },
  {
   "cell_type": "code",
   "execution_count": 55,
   "id": "d1283122-2f06-48ad-a817-927313f05414",
   "metadata": {},
   "outputs": [
    {
     "name": "stdout",
     "output_type": "stream",
     "text": [
      "time: 15 ms (started: 2021-10-25 20:03:15 +08:00)\n"
     ]
    }
   ],
   "source": [
    "profile['age']=profile['age'].map(lambda x:np.nan if x==118 else x)"
   ]
  },
  {
   "cell_type": "code",
   "execution_count": 56,
   "id": "53f36ab8-4ebe-455e-becd-c721a68a060b",
   "metadata": {},
   "outputs": [
    {
     "name": "stdout",
     "output_type": "stream",
     "text": [
      "time: 2.17 s (started: 2021-10-25 20:03:15 +08:00)\n"
     ]
    }
   ],
   "source": [
    "# fill na\n",
    "from sklearn.impute import SimpleImputer\n",
    "\n",
    "imp_median = SimpleImputer(missing_values=np.nan, strategy='median')\n",
    "imp_median.fit(profile[['age','income']])\n",
    "profile[['age','income']] = imp_median.transform(profile[['age','income']])\n"
   ]
  },
  {
   "cell_type": "code",
   "execution_count": 57,
   "id": "002c990e-181e-4362-8587-45e1eb0e6f2d",
   "metadata": {},
   "outputs": [
    {
     "data": {
      "text/html": [
       "<div>\n",
       "<style scoped>\n",
       "    .dataframe tbody tr th:only-of-type {\n",
       "        vertical-align: middle;\n",
       "    }\n",
       "\n",
       "    .dataframe tbody tr th {\n",
       "        vertical-align: top;\n",
       "    }\n",
       "\n",
       "    .dataframe thead th {\n",
       "        text-align: right;\n",
       "    }\n",
       "</style>\n",
       "<table border=\"1\" class=\"dataframe\">\n",
       "  <thead>\n",
       "    <tr style=\"text-align: right;\">\n",
       "      <th></th>\n",
       "      <th>gender</th>\n",
       "      <th>age</th>\n",
       "      <th>id</th>\n",
       "      <th>became_member_on</th>\n",
       "      <th>income</th>\n",
       "      <th>is_income_na</th>\n",
       "    </tr>\n",
       "  </thead>\n",
       "  <tbody>\n",
       "    <tr>\n",
       "      <th>0</th>\n",
       "      <td>O</td>\n",
       "      <td>55.0</td>\n",
       "      <td>68be06ca386d4c31939f3a4f0e3dd783</td>\n",
       "      <td>20170212</td>\n",
       "      <td>64000.0</td>\n",
       "      <td>1</td>\n",
       "    </tr>\n",
       "    <tr>\n",
       "      <th>1</th>\n",
       "      <td>F</td>\n",
       "      <td>55.0</td>\n",
       "      <td>0610b486422d4921ae7d2bf64640c50b</td>\n",
       "      <td>20170715</td>\n",
       "      <td>112000.0</td>\n",
       "      <td>0</td>\n",
       "    </tr>\n",
       "    <tr>\n",
       "      <th>2</th>\n",
       "      <td>O</td>\n",
       "      <td>55.0</td>\n",
       "      <td>38fe809add3b4fcf9315a9694bb96ff5</td>\n",
       "      <td>20180712</td>\n",
       "      <td>64000.0</td>\n",
       "      <td>1</td>\n",
       "    </tr>\n",
       "    <tr>\n",
       "      <th>3</th>\n",
       "      <td>F</td>\n",
       "      <td>75.0</td>\n",
       "      <td>78afa995795e4d85b5d9ceeca43f5fef</td>\n",
       "      <td>20170509</td>\n",
       "      <td>100000.0</td>\n",
       "      <td>0</td>\n",
       "    </tr>\n",
       "    <tr>\n",
       "      <th>4</th>\n",
       "      <td>O</td>\n",
       "      <td>55.0</td>\n",
       "      <td>a03223e636434f42ac4c3df47e8bac43</td>\n",
       "      <td>20170804</td>\n",
       "      <td>64000.0</td>\n",
       "      <td>1</td>\n",
       "    </tr>\n",
       "  </tbody>\n",
       "</table>\n",
       "</div>"
      ],
      "text/plain": [
       "  gender   age                                id  became_member_on    income  \\\n",
       "0      O  55.0  68be06ca386d4c31939f3a4f0e3dd783          20170212   64000.0   \n",
       "1      F  55.0  0610b486422d4921ae7d2bf64640c50b          20170715  112000.0   \n",
       "2      O  55.0  38fe809add3b4fcf9315a9694bb96ff5          20180712   64000.0   \n",
       "3      F  75.0  78afa995795e4d85b5d9ceeca43f5fef          20170509  100000.0   \n",
       "4      O  55.0  a03223e636434f42ac4c3df47e8bac43          20170804   64000.0   \n",
       "\n",
       "   is_income_na  \n",
       "0             1  \n",
       "1             0  \n",
       "2             1  \n",
       "3             0  \n",
       "4             1  "
      ]
     },
     "execution_count": 57,
     "metadata": {},
     "output_type": "execute_result"
    },
    {
     "name": "stdout",
     "output_type": "stream",
     "text": [
      "time: 16 ms (started: 2021-10-25 20:03:17 +08:00)\n"
     ]
    }
   ],
   "source": [
    "profile.head()"
   ]
  },
  {
   "cell_type": "code",
   "execution_count": 58,
   "id": "609295e5-72c2-42a5-bf31-16827c39c4e7",
   "metadata": {},
   "outputs": [
    {
     "name": "stdout",
     "output_type": "stream",
     "text": [
      "time: 1.31 s (started: 2021-10-25 20:03:17 +08:00)\n"
     ]
    }
   ],
   "source": [
    "# feature engeering base on became_member_on\n",
    "profile['member_datetime'] = profile['became_member_on'].map(lambda x:parse(str(x)))\n",
    "profile['member_date'] = profile['member_datetime'].dt.date\n"
   ]
  },
  {
   "cell_type": "code",
   "execution_count": 59,
   "id": "4572f9fa-2149-4bc4-bbce-887c661abc7f",
   "metadata": {},
   "outputs": [
    {
     "name": "stdout",
     "output_type": "stream",
     "text": [
      "time: 125 ms (started: 2021-10-25 20:03:18 +08:00)\n"
     ]
    }
   ],
   "source": [
    "profile['member_days_last'] = profile['member_date'].map(lambda x:date(2018,12,31)-x)\n",
    "profile['member_days_last']  = profile['member_days_last'].dt.days"
   ]
  },
  {
   "cell_type": "code",
   "execution_count": 60,
   "id": "f1bce92f-648a-4890-b7aa-aadf23e3da0a",
   "metadata": {},
   "outputs": [
    {
     "name": "stdout",
     "output_type": "stream",
     "text": [
      "time: 31 ms (started: 2021-10-25 20:03:19 +08:00)\n"
     ]
    }
   ],
   "source": [
    "# handle member datetime\n",
    "profile['member_in_year']=profile['member_datetime'].dt.year\n",
    "profile['member_in_month']= profile['member_datetime'].dt.month\n",
    "profile['member_on_day']= profile['member_datetime'].dt.day"
   ]
  },
  {
   "cell_type": "code",
   "execution_count": 61,
   "id": "8b506c75-e242-448e-ba75-bc19fcb55d0a",
   "metadata": {},
   "outputs": [
    {
     "name": "stdout",
     "output_type": "stream",
     "text": [
      "time: 15 ms (started: 2021-10-25 20:03:19 +08:00)\n"
     ]
    }
   ],
   "source": [
    "profile = profile.merge(profile_gender_dummy,left_index=True,right_index=True)\n"
   ]
  },
  {
   "cell_type": "code",
   "execution_count": 62,
   "id": "114b22fe-7a6e-425e-9e4e-48aab6df9883",
   "metadata": {},
   "outputs": [
    {
     "name": "stdout",
     "output_type": "stream",
     "text": [
      "time: 0 ns (started: 2021-10-25 20:03:19 +08:00)\n"
     ]
    }
   ],
   "source": [
    "# cut `income` into groups for EDA\n",
    "cut_labels=range(30)\n",
    "profile['income_cut'] =pd.cut(profile['income'], bins=30,labels=cut_labels)\n"
   ]
  },
  {
   "cell_type": "code",
   "execution_count": 63,
   "id": "64cb02c0-78f5-4dcb-a012-2efc88ec3e86",
   "metadata": {},
   "outputs": [
    {
     "name": "stdout",
     "output_type": "stream",
     "text": [
      "time: 16 ms (started: 2021-10-25 20:03:19 +08:00)\n"
     ]
    }
   ],
   "source": [
    "# cut `member_days_last` into groups for EDA\n",
    "cut_labels=range(30)\n",
    "profile['member_days_cut'] =pd.cut(profile['member_days_last'], bins=30,labels=cut_labels)\n"
   ]
  },
  {
   "cell_type": "code",
   "execution_count": 64,
   "id": "80353622-64c8-4b4d-a54b-d63ab6c86441",
   "metadata": {},
   "outputs": [
    {
     "data": {
      "text/html": [
       "<div>\n",
       "<style scoped>\n",
       "    .dataframe tbody tr th:only-of-type {\n",
       "        vertical-align: middle;\n",
       "    }\n",
       "\n",
       "    .dataframe tbody tr th {\n",
       "        vertical-align: top;\n",
       "    }\n",
       "\n",
       "    .dataframe thead th {\n",
       "        text-align: right;\n",
       "    }\n",
       "</style>\n",
       "<table border=\"1\" class=\"dataframe\">\n",
       "  <thead>\n",
       "    <tr style=\"text-align: right;\">\n",
       "      <th></th>\n",
       "      <th>gender</th>\n",
       "      <th>age</th>\n",
       "      <th>id</th>\n",
       "      <th>income</th>\n",
       "      <th>is_income_na</th>\n",
       "      <th>member_days_last</th>\n",
       "      <th>member_in_year</th>\n",
       "      <th>member_in_month</th>\n",
       "      <th>member_on_day</th>\n",
       "      <th>gender_F</th>\n",
       "      <th>gender_M</th>\n",
       "      <th>gender_O</th>\n",
       "      <th>income_cut</th>\n",
       "      <th>member_days_cut</th>\n",
       "    </tr>\n",
       "  </thead>\n",
       "  <tbody>\n",
       "    <tr>\n",
       "      <th>0</th>\n",
       "      <td>O</td>\n",
       "      <td>55.0</td>\n",
       "      <td>68be06ca386d4c31939f3a4f0e3dd783</td>\n",
       "      <td>64000.0</td>\n",
       "      <td>1</td>\n",
       "      <td>687</td>\n",
       "      <td>2017</td>\n",
       "      <td>2</td>\n",
       "      <td>12</td>\n",
       "      <td>0</td>\n",
       "      <td>0</td>\n",
       "      <td>1</td>\n",
       "      <td>11</td>\n",
       "      <td>8</td>\n",
       "    </tr>\n",
       "    <tr>\n",
       "      <th>1</th>\n",
       "      <td>F</td>\n",
       "      <td>55.0</td>\n",
       "      <td>0610b486422d4921ae7d2bf64640c50b</td>\n",
       "      <td>112000.0</td>\n",
       "      <td>0</td>\n",
       "      <td>534</td>\n",
       "      <td>2017</td>\n",
       "      <td>7</td>\n",
       "      <td>15</td>\n",
       "      <td>1</td>\n",
       "      <td>0</td>\n",
       "      <td>0</td>\n",
       "      <td>27</td>\n",
       "      <td>6</td>\n",
       "    </tr>\n",
       "    <tr>\n",
       "      <th>2</th>\n",
       "      <td>O</td>\n",
       "      <td>55.0</td>\n",
       "      <td>38fe809add3b4fcf9315a9694bb96ff5</td>\n",
       "      <td>64000.0</td>\n",
       "      <td>1</td>\n",
       "      <td>172</td>\n",
       "      <td>2018</td>\n",
       "      <td>7</td>\n",
       "      <td>12</td>\n",
       "      <td>0</td>\n",
       "      <td>0</td>\n",
       "      <td>1</td>\n",
       "      <td>11</td>\n",
       "      <td>0</td>\n",
       "    </tr>\n",
       "    <tr>\n",
       "      <th>3</th>\n",
       "      <td>F</td>\n",
       "      <td>75.0</td>\n",
       "      <td>78afa995795e4d85b5d9ceeca43f5fef</td>\n",
       "      <td>100000.0</td>\n",
       "      <td>0</td>\n",
       "      <td>601</td>\n",
       "      <td>2017</td>\n",
       "      <td>5</td>\n",
       "      <td>9</td>\n",
       "      <td>1</td>\n",
       "      <td>0</td>\n",
       "      <td>0</td>\n",
       "      <td>23</td>\n",
       "      <td>7</td>\n",
       "    </tr>\n",
       "    <tr>\n",
       "      <th>4</th>\n",
       "      <td>O</td>\n",
       "      <td>55.0</td>\n",
       "      <td>a03223e636434f42ac4c3df47e8bac43</td>\n",
       "      <td>64000.0</td>\n",
       "      <td>1</td>\n",
       "      <td>514</td>\n",
       "      <td>2017</td>\n",
       "      <td>8</td>\n",
       "      <td>4</td>\n",
       "      <td>0</td>\n",
       "      <td>0</td>\n",
       "      <td>1</td>\n",
       "      <td>11</td>\n",
       "      <td>5</td>\n",
       "    </tr>\n",
       "  </tbody>\n",
       "</table>\n",
       "</div>"
      ],
      "text/plain": [
       "  gender   age                                id    income  is_income_na  \\\n",
       "0      O  55.0  68be06ca386d4c31939f3a4f0e3dd783   64000.0             1   \n",
       "1      F  55.0  0610b486422d4921ae7d2bf64640c50b  112000.0             0   \n",
       "2      O  55.0  38fe809add3b4fcf9315a9694bb96ff5   64000.0             1   \n",
       "3      F  75.0  78afa995795e4d85b5d9ceeca43f5fef  100000.0             0   \n",
       "4      O  55.0  a03223e636434f42ac4c3df47e8bac43   64000.0             1   \n",
       "\n",
       "   member_days_last  member_in_year  member_in_month  member_on_day  gender_F  \\\n",
       "0               687            2017                2             12         0   \n",
       "1               534            2017                7             15         1   \n",
       "2               172            2018                7             12         0   \n",
       "3               601            2017                5              9         1   \n",
       "4               514            2017                8              4         0   \n",
       "\n",
       "   gender_M  gender_O income_cut member_days_cut  \n",
       "0         0         1         11               8  \n",
       "1         0         0         27               6  \n",
       "2         0         1         11               0  \n",
       "3         0         0         23               7  \n",
       "4         0         1         11               5  "
      ]
     },
     "execution_count": 64,
     "metadata": {},
     "output_type": "execute_result"
    },
    {
     "name": "stdout",
     "output_type": "stream",
     "text": [
      "time: 16 ms (started: 2021-10-25 20:03:19 +08:00)\n"
     ]
    }
   ],
   "source": [
    "profile_clean = profile.drop(['became_member_on','member_datetime','member_date'],axis=1)\n",
    "profile_clean.head()"
   ]
  },
  {
   "cell_type": "code",
   "execution_count": 65,
   "id": "64f57657-3aea-412b-8507-acf283300a64",
   "metadata": {},
   "outputs": [
    {
     "name": "stdout",
     "output_type": "stream",
     "text": [
      "time: 250 ms (started: 2021-10-25 20:03:19 +08:00)\n"
     ]
    }
   ],
   "source": [
    "# save clean results\n",
    "profile_clean.to_csv('profile_clean.csv')"
   ]
  },
  {
   "cell_type": "markdown",
   "id": "b37dbc2f-d600-46dd-bc97-9acc2c599276",
   "metadata": {},
   "source": [
    "# merge all"
   ]
  },
  {
   "cell_type": "code",
   "execution_count": 66,
   "id": "fca85b7c-55cf-4e9b-b57d-cbcf5d84c01b",
   "metadata": {},
   "outputs": [
    {
     "name": "stdout",
     "output_type": "stream",
     "text": [
      "time: 110 ms (started: 2021-10-25 20:03:19 +08:00)\n"
     ]
    }
   ],
   "source": [
    "df_all = df_behavior.merge(profile_clean,left_on='person',right_on='id',how='left')"
   ]
  },
  {
   "cell_type": "code",
   "execution_count": 67,
   "id": "840c6707-f23d-4a14-8a80-1694a1ec17d9",
   "metadata": {},
   "outputs": [
    {
     "data": {
      "text/plain": [
       "(79444, 27)"
      ]
     },
     "execution_count": 67,
     "metadata": {},
     "output_type": "execute_result"
    },
    {
     "name": "stdout",
     "output_type": "stream",
     "text": [
      "time: 0 ns (started: 2021-10-25 20:03:19 +08:00)\n"
     ]
    }
   ],
   "source": [
    "df_all.shape"
   ]
  },
  {
   "cell_type": "code",
   "execution_count": 68,
   "id": "89341c3c-532f-49cc-a86b-a87e77f67a04",
   "metadata": {},
   "outputs": [
    {
     "name": "stdout",
     "output_type": "stream",
     "text": [
      "time: 110 ms (started: 2021-10-25 20:03:19 +08:00)\n"
     ]
    }
   ],
   "source": [
    "df_all = df_all.merge(portfolio_clean,left_on='offer_id',right_on='id',how='left')"
   ]
  },
  {
   "cell_type": "code",
   "execution_count": 69,
   "id": "a2734292-80cb-4163-8d8c-746624350e6d",
   "metadata": {},
   "outputs": [
    {
     "data": {
      "text/html": [
       "<div>\n",
       "<style scoped>\n",
       "    .dataframe tbody tr th:only-of-type {\n",
       "        vertical-align: middle;\n",
       "    }\n",
       "\n",
       "    .dataframe tbody tr th {\n",
       "        vertical-align: top;\n",
       "    }\n",
       "\n",
       "    .dataframe thead th {\n",
       "        text-align: right;\n",
       "    }\n",
       "</style>\n",
       "<table border=\"1\" class=\"dataframe\">\n",
       "  <thead>\n",
       "    <tr style=\"text-align: right;\">\n",
       "      <th></th>\n",
       "      <th>person</th>\n",
       "      <th>offer_id</th>\n",
       "      <th>offer_count</th>\n",
       "      <th>receive_count</th>\n",
       "      <th>view_count</th>\n",
       "      <th>promo_time_last</th>\n",
       "      <th>promo_count</th>\n",
       "      <th>promo_amount_sum</th>\n",
       "      <th>buy_time_last</th>\n",
       "      <th>buy_count</th>\n",
       "      <th>...</th>\n",
       "      <th>id_y</th>\n",
       "      <th>channel_email</th>\n",
       "      <th>channel_mobile</th>\n",
       "      <th>channel_social</th>\n",
       "      <th>channel_web</th>\n",
       "      <th>type_bogo</th>\n",
       "      <th>type_discount</th>\n",
       "      <th>type_informational</th>\n",
       "      <th>offer_code</th>\n",
       "      <th>return</th>\n",
       "    </tr>\n",
       "  </thead>\n",
       "  <tbody>\n",
       "    <tr>\n",
       "      <th>0</th>\n",
       "      <td>0009655768c64bdeb2e877511632db8f</td>\n",
       "      <td>0</td>\n",
       "      <td>NaN</td>\n",
       "      <td>NaN</td>\n",
       "      <td>NaN</td>\n",
       "      <td>NaN</td>\n",
       "      <td>NaN</td>\n",
       "      <td>NaN</td>\n",
       "      <td>NaN</td>\n",
       "      <td>NaN</td>\n",
       "      <td>...</td>\n",
       "      <td>NaN</td>\n",
       "      <td>NaN</td>\n",
       "      <td>NaN</td>\n",
       "      <td>NaN</td>\n",
       "      <td>NaN</td>\n",
       "      <td>NaN</td>\n",
       "      <td>NaN</td>\n",
       "      <td>NaN</td>\n",
       "      <td>NaN</td>\n",
       "      <td>NaN</td>\n",
       "    </tr>\n",
       "    <tr>\n",
       "      <th>1</th>\n",
       "      <td>0009655768c64bdeb2e877511632db8f</td>\n",
       "      <td>2906b810c7d4411798c6938adc9daaa5</td>\n",
       "      <td>1.0</td>\n",
       "      <td>NaN</td>\n",
       "      <td>NaN</td>\n",
       "      <td>NaN</td>\n",
       "      <td>NaN</td>\n",
       "      <td>NaN</td>\n",
       "      <td>576.0</td>\n",
       "      <td>1.0</td>\n",
       "      <td>...</td>\n",
       "      <td>2906b810c7d4411798c6938adc9daaa5</td>\n",
       "      <td>1.0</td>\n",
       "      <td>1.0</td>\n",
       "      <td>0.0</td>\n",
       "      <td>1.0</td>\n",
       "      <td>0.0</td>\n",
       "      <td>1.0</td>\n",
       "      <td>0.0</td>\n",
       "      <td>aa5</td>\n",
       "      <td>0.199998</td>\n",
       "    </tr>\n",
       "    <tr>\n",
       "      <th>2</th>\n",
       "      <td>0009655768c64bdeb2e877511632db8f</td>\n",
       "      <td>3f207df678b143eea3cee63160fa8bed</td>\n",
       "      <td>1.0</td>\n",
       "      <td>NaN</td>\n",
       "      <td>1.0</td>\n",
       "      <td>NaN</td>\n",
       "      <td>NaN</td>\n",
       "      <td>NaN</td>\n",
       "      <td>NaN</td>\n",
       "      <td>NaN</td>\n",
       "      <td>...</td>\n",
       "      <td>3f207df678b143eea3cee63160fa8bed</td>\n",
       "      <td>1.0</td>\n",
       "      <td>1.0</td>\n",
       "      <td>0.0</td>\n",
       "      <td>1.0</td>\n",
       "      <td>0.0</td>\n",
       "      <td>0.0</td>\n",
       "      <td>1.0</td>\n",
       "      <td>bed</td>\n",
       "      <td>0.000000</td>\n",
       "    </tr>\n",
       "    <tr>\n",
       "      <th>3</th>\n",
       "      <td>0009655768c64bdeb2e877511632db8f</td>\n",
       "      <td>5a8bc65990b245e5a138643cd4eb9837</td>\n",
       "      <td>1.0</td>\n",
       "      <td>NaN</td>\n",
       "      <td>1.0</td>\n",
       "      <td>NaN</td>\n",
       "      <td>NaN</td>\n",
       "      <td>NaN</td>\n",
       "      <td>NaN</td>\n",
       "      <td>NaN</td>\n",
       "      <td>...</td>\n",
       "      <td>5a8bc65990b245e5a138643cd4eb9837</td>\n",
       "      <td>1.0</td>\n",
       "      <td>1.0</td>\n",
       "      <td>1.0</td>\n",
       "      <td>0.0</td>\n",
       "      <td>0.0</td>\n",
       "      <td>0.0</td>\n",
       "      <td>1.0</td>\n",
       "      <td>837</td>\n",
       "      <td>0.000000</td>\n",
       "    </tr>\n",
       "    <tr>\n",
       "      <th>4</th>\n",
       "      <td>0009655768c64bdeb2e877511632db8f</td>\n",
       "      <td>f19421c1d4aa40978ebb69ca19b0e20d</td>\n",
       "      <td>1.0</td>\n",
       "      <td>NaN</td>\n",
       "      <td>NaN</td>\n",
       "      <td>NaN</td>\n",
       "      <td>NaN</td>\n",
       "      <td>NaN</td>\n",
       "      <td>414.0</td>\n",
       "      <td>1.0</td>\n",
       "      <td>...</td>\n",
       "      <td>f19421c1d4aa40978ebb69ca19b0e20d</td>\n",
       "      <td>1.0</td>\n",
       "      <td>1.0</td>\n",
       "      <td>1.0</td>\n",
       "      <td>1.0</td>\n",
       "      <td>1.0</td>\n",
       "      <td>0.0</td>\n",
       "      <td>0.0</td>\n",
       "      <td>20d</td>\n",
       "      <td>0.999980</td>\n",
       "    </tr>\n",
       "  </tbody>\n",
       "</table>\n",
       "<p>5 rows × 41 columns</p>\n",
       "</div>"
      ],
      "text/plain": [
       "                             person                          offer_id  \\\n",
       "0  0009655768c64bdeb2e877511632db8f                                 0   \n",
       "1  0009655768c64bdeb2e877511632db8f  2906b810c7d4411798c6938adc9daaa5   \n",
       "2  0009655768c64bdeb2e877511632db8f  3f207df678b143eea3cee63160fa8bed   \n",
       "3  0009655768c64bdeb2e877511632db8f  5a8bc65990b245e5a138643cd4eb9837   \n",
       "4  0009655768c64bdeb2e877511632db8f  f19421c1d4aa40978ebb69ca19b0e20d   \n",
       "\n",
       "   offer_count  receive_count  view_count  promo_time_last  promo_count  \\\n",
       "0          NaN            NaN         NaN              NaN          NaN   \n",
       "1          1.0            NaN         NaN              NaN          NaN   \n",
       "2          1.0            NaN         1.0              NaN          NaN   \n",
       "3          1.0            NaN         1.0              NaN          NaN   \n",
       "4          1.0            NaN         NaN              NaN          NaN   \n",
       "\n",
       "   promo_amount_sum  buy_time_last  buy_count  ...  \\\n",
       "0               NaN            NaN        NaN  ...   \n",
       "1               NaN          576.0        1.0  ...   \n",
       "2               NaN            NaN        NaN  ...   \n",
       "3               NaN            NaN        NaN  ...   \n",
       "4               NaN          414.0        1.0  ...   \n",
       "\n",
       "                               id_y  channel_email  channel_mobile  \\\n",
       "0                               NaN            NaN             NaN   \n",
       "1  2906b810c7d4411798c6938adc9daaa5            1.0             1.0   \n",
       "2  3f207df678b143eea3cee63160fa8bed            1.0             1.0   \n",
       "3  5a8bc65990b245e5a138643cd4eb9837            1.0             1.0   \n",
       "4  f19421c1d4aa40978ebb69ca19b0e20d            1.0             1.0   \n",
       "\n",
       "  channel_social  channel_web type_bogo  type_discount  type_informational  \\\n",
       "0            NaN          NaN       NaN            NaN                 NaN   \n",
       "1            0.0          1.0       0.0            1.0                 0.0   \n",
       "2            0.0          1.0       0.0            0.0                 1.0   \n",
       "3            1.0          0.0       0.0            0.0                 1.0   \n",
       "4            1.0          1.0       1.0            0.0                 0.0   \n",
       "\n",
       "   offer_code    return  \n",
       "0         NaN       NaN  \n",
       "1         aa5  0.199998  \n",
       "2         bed  0.000000  \n",
       "3         837  0.000000  \n",
       "4         20d  0.999980  \n",
       "\n",
       "[5 rows x 41 columns]"
      ]
     },
     "execution_count": 69,
     "metadata": {},
     "output_type": "execute_result"
    },
    {
     "name": "stdout",
     "output_type": "stream",
     "text": [
      "time: 94 ms (started: 2021-10-25 20:03:19 +08:00)\n"
     ]
    }
   ],
   "source": [
    "df_all.head()"
   ]
  },
  {
   "cell_type": "code",
   "execution_count": 70,
   "id": "8bc9bd9f-0fd5-4e78-a0b0-843471e3e8d7",
   "metadata": {},
   "outputs": [
    {
     "data": {
      "text/html": [
       "<div>\n",
       "<style scoped>\n",
       "    .dataframe tbody tr th:only-of-type {\n",
       "        vertical-align: middle;\n",
       "    }\n",
       "\n",
       "    .dataframe tbody tr th {\n",
       "        vertical-align: top;\n",
       "    }\n",
       "\n",
       "    .dataframe thead th {\n",
       "        text-align: right;\n",
       "    }\n",
       "</style>\n",
       "<table border=\"1\" class=\"dataframe\">\n",
       "  <thead>\n",
       "    <tr style=\"text-align: right;\">\n",
       "      <th></th>\n",
       "      <th>person</th>\n",
       "      <th>offer_id</th>\n",
       "      <th>offer_count</th>\n",
       "      <th>receive_count</th>\n",
       "      <th>view_count</th>\n",
       "      <th>promo_time_last</th>\n",
       "      <th>promo_count</th>\n",
       "      <th>promo_amount_sum</th>\n",
       "      <th>buy_time_last</th>\n",
       "      <th>buy_count</th>\n",
       "      <th>...</th>\n",
       "      <th>offer_type</th>\n",
       "      <th>channel_email</th>\n",
       "      <th>channel_mobile</th>\n",
       "      <th>channel_social</th>\n",
       "      <th>channel_web</th>\n",
       "      <th>type_bogo</th>\n",
       "      <th>type_discount</th>\n",
       "      <th>type_informational</th>\n",
       "      <th>offer_code</th>\n",
       "      <th>return</th>\n",
       "    </tr>\n",
       "  </thead>\n",
       "  <tbody>\n",
       "    <tr>\n",
       "      <th>0</th>\n",
       "      <td>0009655768c64bdeb2e877511632db8f</td>\n",
       "      <td>0</td>\n",
       "      <td>NaN</td>\n",
       "      <td>NaN</td>\n",
       "      <td>NaN</td>\n",
       "      <td>NaN</td>\n",
       "      <td>NaN</td>\n",
       "      <td>NaN</td>\n",
       "      <td>NaN</td>\n",
       "      <td>NaN</td>\n",
       "      <td>...</td>\n",
       "      <td>NaN</td>\n",
       "      <td>NaN</td>\n",
       "      <td>NaN</td>\n",
       "      <td>NaN</td>\n",
       "      <td>NaN</td>\n",
       "      <td>NaN</td>\n",
       "      <td>NaN</td>\n",
       "      <td>NaN</td>\n",
       "      <td>NaN</td>\n",
       "      <td>NaN</td>\n",
       "    </tr>\n",
       "    <tr>\n",
       "      <th>1</th>\n",
       "      <td>0009655768c64bdeb2e877511632db8f</td>\n",
       "      <td>2906b810c7d4411798c6938adc9daaa5</td>\n",
       "      <td>1.0</td>\n",
       "      <td>NaN</td>\n",
       "      <td>NaN</td>\n",
       "      <td>NaN</td>\n",
       "      <td>NaN</td>\n",
       "      <td>NaN</td>\n",
       "      <td>576.0</td>\n",
       "      <td>1.0</td>\n",
       "      <td>...</td>\n",
       "      <td>discount</td>\n",
       "      <td>1.0</td>\n",
       "      <td>1.0</td>\n",
       "      <td>0.0</td>\n",
       "      <td>1.0</td>\n",
       "      <td>0.0</td>\n",
       "      <td>1.0</td>\n",
       "      <td>0.0</td>\n",
       "      <td>aa5</td>\n",
       "      <td>0.199998</td>\n",
       "    </tr>\n",
       "    <tr>\n",
       "      <th>2</th>\n",
       "      <td>0009655768c64bdeb2e877511632db8f</td>\n",
       "      <td>3f207df678b143eea3cee63160fa8bed</td>\n",
       "      <td>1.0</td>\n",
       "      <td>NaN</td>\n",
       "      <td>1.0</td>\n",
       "      <td>NaN</td>\n",
       "      <td>NaN</td>\n",
       "      <td>NaN</td>\n",
       "      <td>NaN</td>\n",
       "      <td>NaN</td>\n",
       "      <td>...</td>\n",
       "      <td>informational</td>\n",
       "      <td>1.0</td>\n",
       "      <td>1.0</td>\n",
       "      <td>0.0</td>\n",
       "      <td>1.0</td>\n",
       "      <td>0.0</td>\n",
       "      <td>0.0</td>\n",
       "      <td>1.0</td>\n",
       "      <td>bed</td>\n",
       "      <td>0.000000</td>\n",
       "    </tr>\n",
       "    <tr>\n",
       "      <th>3</th>\n",
       "      <td>0009655768c64bdeb2e877511632db8f</td>\n",
       "      <td>5a8bc65990b245e5a138643cd4eb9837</td>\n",
       "      <td>1.0</td>\n",
       "      <td>NaN</td>\n",
       "      <td>1.0</td>\n",
       "      <td>NaN</td>\n",
       "      <td>NaN</td>\n",
       "      <td>NaN</td>\n",
       "      <td>NaN</td>\n",
       "      <td>NaN</td>\n",
       "      <td>...</td>\n",
       "      <td>informational</td>\n",
       "      <td>1.0</td>\n",
       "      <td>1.0</td>\n",
       "      <td>1.0</td>\n",
       "      <td>0.0</td>\n",
       "      <td>0.0</td>\n",
       "      <td>0.0</td>\n",
       "      <td>1.0</td>\n",
       "      <td>837</td>\n",
       "      <td>0.000000</td>\n",
       "    </tr>\n",
       "    <tr>\n",
       "      <th>4</th>\n",
       "      <td>0009655768c64bdeb2e877511632db8f</td>\n",
       "      <td>f19421c1d4aa40978ebb69ca19b0e20d</td>\n",
       "      <td>1.0</td>\n",
       "      <td>NaN</td>\n",
       "      <td>NaN</td>\n",
       "      <td>NaN</td>\n",
       "      <td>NaN</td>\n",
       "      <td>NaN</td>\n",
       "      <td>414.0</td>\n",
       "      <td>1.0</td>\n",
       "      <td>...</td>\n",
       "      <td>bogo</td>\n",
       "      <td>1.0</td>\n",
       "      <td>1.0</td>\n",
       "      <td>1.0</td>\n",
       "      <td>1.0</td>\n",
       "      <td>1.0</td>\n",
       "      <td>0.0</td>\n",
       "      <td>0.0</td>\n",
       "      <td>20d</td>\n",
       "      <td>0.999980</td>\n",
       "    </tr>\n",
       "  </tbody>\n",
       "</table>\n",
       "<p>5 rows × 39 columns</p>\n",
       "</div>"
      ],
      "text/plain": [
       "                             person                          offer_id  \\\n",
       "0  0009655768c64bdeb2e877511632db8f                                 0   \n",
       "1  0009655768c64bdeb2e877511632db8f  2906b810c7d4411798c6938adc9daaa5   \n",
       "2  0009655768c64bdeb2e877511632db8f  3f207df678b143eea3cee63160fa8bed   \n",
       "3  0009655768c64bdeb2e877511632db8f  5a8bc65990b245e5a138643cd4eb9837   \n",
       "4  0009655768c64bdeb2e877511632db8f  f19421c1d4aa40978ebb69ca19b0e20d   \n",
       "\n",
       "   offer_count  receive_count  view_count  promo_time_last  promo_count  \\\n",
       "0          NaN            NaN         NaN              NaN          NaN   \n",
       "1          1.0            NaN         NaN              NaN          NaN   \n",
       "2          1.0            NaN         1.0              NaN          NaN   \n",
       "3          1.0            NaN         1.0              NaN          NaN   \n",
       "4          1.0            NaN         NaN              NaN          NaN   \n",
       "\n",
       "   promo_amount_sum  buy_time_last  buy_count  ...     offer_type  \\\n",
       "0               NaN            NaN        NaN  ...            NaN   \n",
       "1               NaN          576.0        1.0  ...       discount   \n",
       "2               NaN            NaN        NaN  ...  informational   \n",
       "3               NaN            NaN        NaN  ...  informational   \n",
       "4               NaN          414.0        1.0  ...           bogo   \n",
       "\n",
       "   channel_email  channel_mobile channel_social  channel_web  type_bogo  \\\n",
       "0            NaN             NaN            NaN          NaN        NaN   \n",
       "1            1.0             1.0            0.0          1.0        0.0   \n",
       "2            1.0             1.0            0.0          1.0        0.0   \n",
       "3            1.0             1.0            1.0          0.0        0.0   \n",
       "4            1.0             1.0            1.0          1.0        1.0   \n",
       "\n",
       "   type_discount  type_informational  offer_code    return  \n",
       "0            NaN                 NaN         NaN       NaN  \n",
       "1            1.0                 0.0         aa5  0.199998  \n",
       "2            0.0                 1.0         bed  0.000000  \n",
       "3            0.0                 1.0         837  0.000000  \n",
       "4            0.0                 0.0         20d  0.999980  \n",
       "\n",
       "[5 rows x 39 columns]"
      ]
     },
     "execution_count": 70,
     "metadata": {},
     "output_type": "execute_result"
    },
    {
     "name": "stdout",
     "output_type": "stream",
     "text": [
      "time: 110 ms (started: 2021-10-25 20:03:19 +08:00)\n"
     ]
    }
   ],
   "source": [
    "df_clean=df_all.drop(['id_x','id_y'],axis=1)\n",
    "df_clean.head()"
   ]
  },
  {
   "cell_type": "code",
   "execution_count": 71,
   "id": "e2ffeb4b-3152-4e9b-bf54-139f6a672508",
   "metadata": {},
   "outputs": [
    {
     "data": {
      "text/html": [
       "<div>\n",
       "<style scoped>\n",
       "    .dataframe tbody tr th:only-of-type {\n",
       "        vertical-align: middle;\n",
       "    }\n",
       "\n",
       "    .dataframe tbody tr th {\n",
       "        vertical-align: top;\n",
       "    }\n",
       "\n",
       "    .dataframe thead th {\n",
       "        text-align: right;\n",
       "    }\n",
       "</style>\n",
       "<table border=\"1\" class=\"dataframe\">\n",
       "  <thead>\n",
       "    <tr style=\"text-align: right;\">\n",
       "      <th></th>\n",
       "      <th>buy_count</th>\n",
       "      <th>buy_time_last</th>\n",
       "      <th>buy_amount_sum</th>\n",
       "      <th>receive_count</th>\n",
       "      <th>other_count</th>\n",
       "      <th>other_amount_sum</th>\n",
       "      <th>promo_count</th>\n",
       "      <th>promo_time_last</th>\n",
       "      <th>promo_amount_sum</th>\n",
       "      <th>view_count</th>\n",
       "      <th>...</th>\n",
       "      <th>member_in_year</th>\n",
       "      <th>offer_id</th>\n",
       "      <th>member_in_month</th>\n",
       "      <th>income_cut</th>\n",
       "      <th>member_days_cut</th>\n",
       "      <th>member_on_day</th>\n",
       "      <th>age</th>\n",
       "      <th>income</th>\n",
       "      <th>member_days_last</th>\n",
       "      <th>person</th>\n",
       "    </tr>\n",
       "  </thead>\n",
       "  <tbody>\n",
       "    <tr>\n",
       "      <th>null_count</th>\n",
       "      <td>70285</td>\n",
       "      <td>70285</td>\n",
       "      <td>70285</td>\n",
       "      <td>67870</td>\n",
       "      <td>63288</td>\n",
       "      <td>63288</td>\n",
       "      <td>58232</td>\n",
       "      <td>58232</td>\n",
       "      <td>58232</td>\n",
       "      <td>53298</td>\n",
       "      <td>...</td>\n",
       "      <td>0</td>\n",
       "      <td>0</td>\n",
       "      <td>0</td>\n",
       "      <td>0</td>\n",
       "      <td>0</td>\n",
       "      <td>0</td>\n",
       "      <td>0</td>\n",
       "      <td>0</td>\n",
       "      <td>0</td>\n",
       "      <td>0</td>\n",
       "    </tr>\n",
       "    <tr>\n",
       "      <th>null_ratio</th>\n",
       "      <td>0.884711</td>\n",
       "      <td>0.884711</td>\n",
       "      <td>0.884711</td>\n",
       "      <td>0.854312</td>\n",
       "      <td>0.796637</td>\n",
       "      <td>0.796637</td>\n",
       "      <td>0.732994</td>\n",
       "      <td>0.732994</td>\n",
       "      <td>0.732994</td>\n",
       "      <td>0.670888</td>\n",
       "      <td>...</td>\n",
       "      <td>0.0</td>\n",
       "      <td>0.0</td>\n",
       "      <td>0.0</td>\n",
       "      <td>0.0</td>\n",
       "      <td>0.0</td>\n",
       "      <td>0.0</td>\n",
       "      <td>0.0</td>\n",
       "      <td>0.0</td>\n",
       "      <td>0.0</td>\n",
       "      <td>0.0</td>\n",
       "    </tr>\n",
       "    <tr>\n",
       "      <th>dtypes</th>\n",
       "      <td>float64</td>\n",
       "      <td>float64</td>\n",
       "      <td>float64</td>\n",
       "      <td>float64</td>\n",
       "      <td>float64</td>\n",
       "      <td>float64</td>\n",
       "      <td>float64</td>\n",
       "      <td>float64</td>\n",
       "      <td>float64</td>\n",
       "      <td>float64</td>\n",
       "      <td>...</td>\n",
       "      <td>int64</td>\n",
       "      <td>object</td>\n",
       "      <td>int64</td>\n",
       "      <td>category</td>\n",
       "      <td>category</td>\n",
       "      <td>int64</td>\n",
       "      <td>float64</td>\n",
       "      <td>float64</td>\n",
       "      <td>int64</td>\n",
       "      <td>object</td>\n",
       "    </tr>\n",
       "    <tr>\n",
       "      <th>value_count</th>\n",
       "      <td>9159</td>\n",
       "      <td>9159</td>\n",
       "      <td>9159</td>\n",
       "      <td>11574</td>\n",
       "      <td>16156</td>\n",
       "      <td>16156</td>\n",
       "      <td>21212</td>\n",
       "      <td>21212</td>\n",
       "      <td>21212</td>\n",
       "      <td>26146</td>\n",
       "      <td>...</td>\n",
       "      <td>79444</td>\n",
       "      <td>79444</td>\n",
       "      <td>79444</td>\n",
       "      <td>79444</td>\n",
       "      <td>79444</td>\n",
       "      <td>79444</td>\n",
       "      <td>79444</td>\n",
       "      <td>79444</td>\n",
       "      <td>79444</td>\n",
       "      <td>79444</td>\n",
       "    </tr>\n",
       "    <tr>\n",
       "      <th>uique_counts</th>\n",
       "      <td>3</td>\n",
       "      <td>120</td>\n",
       "      <td>4100</td>\n",
       "      <td>4</td>\n",
       "      <td>31</td>\n",
       "      <td>11926</td>\n",
       "      <td>4</td>\n",
       "      <td>120</td>\n",
       "      <td>5905</td>\n",
       "      <td>5</td>\n",
       "      <td>...</td>\n",
       "      <td>6</td>\n",
       "      <td>11</td>\n",
       "      <td>12</td>\n",
       "      <td>30</td>\n",
       "      <td>30</td>\n",
       "      <td>31</td>\n",
       "      <td>84</td>\n",
       "      <td>91</td>\n",
       "      <td>1716</td>\n",
       "      <td>17000</td>\n",
       "    </tr>\n",
       "    <tr>\n",
       "      <th>value_min</th>\n",
       "      <td>1.0</td>\n",
       "      <td>0.0</td>\n",
       "      <td>0.39</td>\n",
       "      <td>1.0</td>\n",
       "      <td>1.0</td>\n",
       "      <td>0.05</td>\n",
       "      <td>1.0</td>\n",
       "      <td>0.0</td>\n",
       "      <td>0.15</td>\n",
       "      <td>1.0</td>\n",
       "      <td>...</td>\n",
       "      <td>2013</td>\n",
       "      <td>0</td>\n",
       "      <td>1</td>\n",
       "      <td>0</td>\n",
       "      <td>0</td>\n",
       "      <td>1</td>\n",
       "      <td>18.0</td>\n",
       "      <td>30000.0</td>\n",
       "      <td>158</td>\n",
       "      <td>0009655768c64bdeb2e877511632db8f</td>\n",
       "    </tr>\n",
       "    <tr>\n",
       "      <th>value_max</th>\n",
       "      <td>3.0</td>\n",
       "      <td>714.0</td>\n",
       "      <td>966.24</td>\n",
       "      <td>4.0</td>\n",
       "      <td>33.0</td>\n",
       "      <td>1179.56</td>\n",
       "      <td>4.0</td>\n",
       "      <td>714.0</td>\n",
       "      <td>1033.78</td>\n",
       "      <td>5.0</td>\n",
       "      <td>...</td>\n",
       "      <td>2018</td>\n",
       "      <td>fafdcd668e3743c1bb461111dcafc2a4</td>\n",
       "      <td>12</td>\n",
       "      <td>29</td>\n",
       "      <td>29</td>\n",
       "      <td>31</td>\n",
       "      <td>101.0</td>\n",
       "      <td>120000.0</td>\n",
       "      <td>1981</td>\n",
       "      <td>ffff82501cea40309d5fdd7edcca4a07</td>\n",
       "    </tr>\n",
       "    <tr>\n",
       "      <th>value_median</th>\n",
       "      <td>1.0</td>\n",
       "      <td>462.0</td>\n",
       "      <td>15.51</td>\n",
       "      <td>1.0</td>\n",
       "      <td>6.0</td>\n",
       "      <td>43.8</td>\n",
       "      <td>1.0</td>\n",
       "      <td>444.0</td>\n",
       "      <td>15.355</td>\n",
       "      <td>1.0</td>\n",
       "      <td>...</td>\n",
       "      <td>2017.0</td>\n",
       "      <td>NaN</td>\n",
       "      <td>7.0</td>\n",
       "      <td>NaN</td>\n",
       "      <td>NaN</td>\n",
       "      <td>16.0</td>\n",
       "      <td>55.0</td>\n",
       "      <td>64000.0</td>\n",
       "      <td>518.0</td>\n",
       "      <td>NaN</td>\n",
       "    </tr>\n",
       "  </tbody>\n",
       "</table>\n",
       "<p>8 rows × 39 columns</p>\n",
       "</div>"
      ],
      "text/plain": [
       "             buy_count buy_time_last buy_amount_sum receive_count other_count  \\\n",
       "null_count       70285         70285          70285         67870       63288   \n",
       "null_ratio    0.884711      0.884711       0.884711      0.854312    0.796637   \n",
       "dtypes         float64       float64        float64       float64     float64   \n",
       "value_count       9159          9159           9159         11574       16156   \n",
       "uique_counts         3           120           4100             4          31   \n",
       "value_min          1.0           0.0           0.39           1.0         1.0   \n",
       "value_max          3.0         714.0         966.24           4.0        33.0   \n",
       "value_median       1.0         462.0          15.51           1.0         6.0   \n",
       "\n",
       "             other_amount_sum promo_count promo_time_last promo_amount_sum  \\\n",
       "null_count              63288       58232           58232            58232   \n",
       "null_ratio           0.796637    0.732994        0.732994         0.732994   \n",
       "dtypes                float64     float64         float64          float64   \n",
       "value_count             16156       21212           21212            21212   \n",
       "uique_counts            11926           4             120             5905   \n",
       "value_min                0.05         1.0             0.0             0.15   \n",
       "value_max             1179.56         4.0           714.0          1033.78   \n",
       "value_median             43.8         1.0           444.0           15.355   \n",
       "\n",
       "             view_count  ... member_in_year                          offer_id  \\\n",
       "null_count        53298  ...              0                                 0   \n",
       "null_ratio     0.670888  ...            0.0                               0.0   \n",
       "dtypes          float64  ...          int64                            object   \n",
       "value_count       26146  ...          79444                             79444   \n",
       "uique_counts          5  ...              6                                11   \n",
       "value_min           1.0  ...           2013                                 0   \n",
       "value_max           5.0  ...           2018  fafdcd668e3743c1bb461111dcafc2a4   \n",
       "value_median        1.0  ...         2017.0                               NaN   \n",
       "\n",
       "             member_in_month income_cut member_days_cut member_on_day  \\\n",
       "null_count                 0          0               0             0   \n",
       "null_ratio               0.0        0.0             0.0           0.0   \n",
       "dtypes                 int64   category        category         int64   \n",
       "value_count            79444      79444           79444         79444   \n",
       "uique_counts              12         30              30            31   \n",
       "value_min                  1          0               0             1   \n",
       "value_max                 12         29              29            31   \n",
       "value_median             7.0        NaN             NaN          16.0   \n",
       "\n",
       "                  age    income member_days_last  \\\n",
       "null_count          0         0                0   \n",
       "null_ratio        0.0       0.0              0.0   \n",
       "dtypes        float64   float64            int64   \n",
       "value_count     79444     79444            79444   \n",
       "uique_counts       84        91             1716   \n",
       "value_min        18.0   30000.0              158   \n",
       "value_max       101.0  120000.0             1981   \n",
       "value_median     55.0   64000.0            518.0   \n",
       "\n",
       "                                        person  \n",
       "null_count                                   0  \n",
       "null_ratio                                 0.0  \n",
       "dtypes                                  object  \n",
       "value_count                              79444  \n",
       "uique_counts                             17000  \n",
       "value_min     0009655768c64bdeb2e877511632db8f  \n",
       "value_max     ffff82501cea40309d5fdd7edcca4a07  \n",
       "value_median                               NaN  \n",
       "\n",
       "[8 rows x 39 columns]"
      ]
     },
     "execution_count": 71,
     "metadata": {},
     "output_type": "execute_result"
    },
    {
     "name": "stdout",
     "output_type": "stream",
     "text": [
      "time: 656 ms (started: 2021-10-25 20:03:20 +08:00)\n"
     ]
    }
   ],
   "source": [
    "show_desc(df_clean)"
   ]
  },
  {
   "cell_type": "code",
   "execution_count": 72,
   "id": "4d31678f-57fc-4013-b5b8-2d0b665f77c0",
   "metadata": {},
   "outputs": [
    {
     "name": "stdout",
     "output_type": "stream",
     "text": [
      "time: 2.95 s (started: 2021-10-25 20:03:20 +08:00)\n"
     ]
    }
   ],
   "source": [
    "df_clean.to_csv('df_cleanR.csv')"
   ]
  },
  {
   "cell_type": "code",
   "execution_count": null,
   "id": "23507d9c-e36e-4b5d-a125-51f52600ad74",
   "metadata": {},
   "outputs": [],
   "source": []
  },
  {
   "cell_type": "code",
   "execution_count": null,
   "id": "fb725892-5b90-4538-a794-19d6fa2f6f89",
   "metadata": {},
   "outputs": [],
   "source": []
  }
 ],
 "metadata": {
  "kernelspec": {
   "display_name": "Python 3",
   "language": "python",
   "name": "python3"
  },
  "language_info": {
   "codemirror_mode": {
    "name": "ipython",
    "version": 3
   },
   "file_extension": ".py",
   "mimetype": "text/x-python",
   "name": "python",
   "nbconvert_exporter": "python",
   "pygments_lexer": "ipython3",
   "version": "3.8.8"
  }
 },
 "nbformat": 4,
 "nbformat_minor": 5
}
